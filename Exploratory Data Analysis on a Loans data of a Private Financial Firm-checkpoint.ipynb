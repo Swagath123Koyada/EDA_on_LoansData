{
 "cells": [
  {
   "cell_type": "markdown",
   "id": "0aa63067",
   "metadata": {},
   "source": [
    "# Importing all the necessary modules"
   ]
  },
  {
   "cell_type": "code",
   "execution_count": 1,
   "id": "014ab536",
   "metadata": {},
   "outputs": [],
   "source": [
    "import numpy as np                      # for the 2-d matrices\n",
    "import pandas as pd                     # for the data frames\n",
    "import matplotlib.pyplot as plt         # for data vizualizations \n",
    "import datetime as dt                   # for the datetime data\n",
    "import seaborn as sns                   # for the visualizations "
   ]
  },
  {
   "cell_type": "markdown",
   "id": "382c7127",
   "metadata": {},
   "source": [
    "### Importing the data into Jupyter Notebook"
   ]
  },
  {
   "cell_type": "code",
   "execution_count": 4,
   "id": "943dcfdb",
   "metadata": {},
   "outputs": [
    {
     "data": {
      "text/html": [
       "<div>\n",
       "<style scoped>\n",
       "    .dataframe tbody tr th:only-of-type {\n",
       "        vertical-align: middle;\n",
       "    }\n",
       "\n",
       "    .dataframe tbody tr th {\n",
       "        vertical-align: top;\n",
       "    }\n",
       "\n",
       "    .dataframe thead th {\n",
       "        text-align: right;\n",
       "    }\n",
       "</style>\n",
       "<table border=\"1\" class=\"dataframe\">\n",
       "  <thead>\n",
       "    <tr style=\"text-align: right;\">\n",
       "      <th></th>\n",
       "      <th>LoanID</th>\n",
       "      <th>Amount.Requested</th>\n",
       "      <th>Amount.Funded.By.Investors</th>\n",
       "      <th>Interest.Rate</th>\n",
       "      <th>Loan.Length</th>\n",
       "      <th>Loan.Purpose</th>\n",
       "      <th>Debt.To.Income.Ratio</th>\n",
       "      <th>State</th>\n",
       "      <th>Home.Ownership</th>\n",
       "      <th>Monthly.Income</th>\n",
       "      <th>FICO.Range</th>\n",
       "      <th>Open.CREDIT.Lines</th>\n",
       "      <th>Revolving.CREDIT.Balance</th>\n",
       "      <th>Inquiries.in.the.Last.6.Months</th>\n",
       "      <th>Employment.Length</th>\n",
       "    </tr>\n",
       "  </thead>\n",
       "  <tbody>\n",
       "    <tr>\n",
       "      <th>0</th>\n",
       "      <td>1</td>\n",
       "      <td>20000.0</td>\n",
       "      <td>20000.0</td>\n",
       "      <td>8.90%</td>\n",
       "      <td>36 months</td>\n",
       "      <td>debt_consolidation</td>\n",
       "      <td>14.90%</td>\n",
       "      <td>SC</td>\n",
       "      <td>MORTGAGE</td>\n",
       "      <td>6541.67</td>\n",
       "      <td>735-739</td>\n",
       "      <td>14.0</td>\n",
       "      <td>14272.0</td>\n",
       "      <td>2.0</td>\n",
       "      <td>&lt; 1 year</td>\n",
       "    </tr>\n",
       "    <tr>\n",
       "      <th>1</th>\n",
       "      <td>2</td>\n",
       "      <td>19200.0</td>\n",
       "      <td>19200.0</td>\n",
       "      <td>12.12%</td>\n",
       "      <td>36 months</td>\n",
       "      <td>debt_consolidation</td>\n",
       "      <td>28.36%</td>\n",
       "      <td>TX</td>\n",
       "      <td>MORTGAGE</td>\n",
       "      <td>4583.33</td>\n",
       "      <td>715-719</td>\n",
       "      <td>12.0</td>\n",
       "      <td>11140.0</td>\n",
       "      <td>1.0</td>\n",
       "      <td>2 years</td>\n",
       "    </tr>\n",
       "    <tr>\n",
       "      <th>2</th>\n",
       "      <td>3</td>\n",
       "      <td>35000.0</td>\n",
       "      <td>35000.0</td>\n",
       "      <td>21.98%</td>\n",
       "      <td>60 months</td>\n",
       "      <td>debt_consolidation</td>\n",
       "      <td>23.81%</td>\n",
       "      <td>CA</td>\n",
       "      <td>MORTGAGE</td>\n",
       "      <td>11500.00</td>\n",
       "      <td>690-694</td>\n",
       "      <td>14.0</td>\n",
       "      <td>21977.0</td>\n",
       "      <td>1.0</td>\n",
       "      <td>2 years</td>\n",
       "    </tr>\n",
       "    <tr>\n",
       "      <th>3</th>\n",
       "      <td>4</td>\n",
       "      <td>10000.0</td>\n",
       "      <td>9975.0</td>\n",
       "      <td>9.99%</td>\n",
       "      <td>36 months</td>\n",
       "      <td>debt_consolidation</td>\n",
       "      <td>14.30%</td>\n",
       "      <td>KS</td>\n",
       "      <td>MORTGAGE</td>\n",
       "      <td>3833.33</td>\n",
       "      <td>695-699</td>\n",
       "      <td>10.0</td>\n",
       "      <td>9346.0</td>\n",
       "      <td>0.0</td>\n",
       "      <td>5 years</td>\n",
       "    </tr>\n",
       "    <tr>\n",
       "      <th>4</th>\n",
       "      <td>5</td>\n",
       "      <td>12000.0</td>\n",
       "      <td>12000.0</td>\n",
       "      <td>11.71%</td>\n",
       "      <td>36 months</td>\n",
       "      <td>credit_card</td>\n",
       "      <td>18.78%</td>\n",
       "      <td>NJ</td>\n",
       "      <td>RENT</td>\n",
       "      <td>3195.00</td>\n",
       "      <td>695-699</td>\n",
       "      <td>11.0</td>\n",
       "      <td>14469.0</td>\n",
       "      <td>0.0</td>\n",
       "      <td>9 years</td>\n",
       "    </tr>\n",
       "  </tbody>\n",
       "</table>\n",
       "</div>"
      ],
      "text/plain": [
       "   LoanID  Amount.Requested  Amount.Funded.By.Investors Interest.Rate  \\\n",
       "0       1           20000.0                     20000.0         8.90%   \n",
       "1       2           19200.0                     19200.0        12.12%   \n",
       "2       3           35000.0                     35000.0        21.98%   \n",
       "3       4           10000.0                      9975.0         9.99%   \n",
       "4       5           12000.0                     12000.0        11.71%   \n",
       "\n",
       "  Loan.Length        Loan.Purpose Debt.To.Income.Ratio State Home.Ownership  \\\n",
       "0   36 months  debt_consolidation               14.90%    SC       MORTGAGE   \n",
       "1   36 months  debt_consolidation               28.36%    TX       MORTGAGE   \n",
       "2   60 months  debt_consolidation               23.81%    CA       MORTGAGE   \n",
       "3   36 months  debt_consolidation               14.30%    KS       MORTGAGE   \n",
       "4   36 months         credit_card               18.78%    NJ           RENT   \n",
       "\n",
       "   Monthly.Income FICO.Range  Open.CREDIT.Lines  Revolving.CREDIT.Balance  \\\n",
       "0         6541.67    735-739               14.0                   14272.0   \n",
       "1         4583.33    715-719               12.0                   11140.0   \n",
       "2        11500.00    690-694               14.0                   21977.0   \n",
       "3         3833.33    695-699               10.0                    9346.0   \n",
       "4         3195.00    695-699               11.0                   14469.0   \n",
       "\n",
       "   Inquiries.in.the.Last.6.Months Employment.Length  \n",
       "0                             2.0          < 1 year  \n",
       "1                             1.0           2 years  \n",
       "2                             1.0           2 years  \n",
       "3                             0.0           5 years  \n",
       "4                             0.0           9 years  "
      ]
     },
     "execution_count": 4,
     "metadata": {},
     "output_type": "execute_result"
    }
   ],
   "source": [
    "LoansData= pd.read_csv('LoansData (1).csv')\n",
    "data.head()"
   ]
  },
  {
   "cell_type": "code",
   "execution_count": 5,
   "id": "3e0063ce",
   "metadata": {},
   "outputs": [
    {
     "data": {
      "text/plain": [
       "(2500, 15)"
      ]
     },
     "execution_count": 5,
     "metadata": {},
     "output_type": "execute_result"
    }
   ],
   "source": [
    "LoansData.shape"
   ]
  },
  {
   "cell_type": "markdown",
   "id": "6e0587bd",
   "metadata": {},
   "source": [
    "**There are 2500 records for 15 variables in this DataFrame**"
   ]
  },
  {
   "cell_type": "markdown",
   "id": "0c654b2d",
   "metadata": {},
   "source": [
    "# EDA: Exploratory Data Analysis"
   ]
  },
  {
   "cell_type": "markdown",
   "id": "01d3d913",
   "metadata": {},
   "source": [
    "### Renaming the variables as per the Naming convention."
   ]
  },
  {
   "cell_type": "code",
   "execution_count": 6,
   "id": "b19bfc02",
   "metadata": {},
   "outputs": [
    {
     "data": {
      "text/plain": [
       "Index(['LoanID', 'Amount.Requested', 'Amount.Funded.By.Investors',\n",
       "       'Interest.Rate', 'Loan.Length', 'Loan.Purpose', 'Debt.To.Income.Ratio',\n",
       "       'State', 'Home.Ownership', 'Monthly.Income', 'FICO.Range',\n",
       "       'Open.CREDIT.Lines', 'Revolving.CREDIT.Balance',\n",
       "       'Inquiries.in.the.Last.6.Months', 'Employment.Length'],\n",
       "      dtype='object')"
      ]
     },
     "execution_count": 6,
     "metadata": {},
     "output_type": "execute_result"
    }
   ],
   "source": [
    "LoansData.columns"
   ]
  },
  {
   "cell_type": "code",
   "execution_count": 7,
   "id": "bba90ab8",
   "metadata": {},
   "outputs": [
    {
     "name": "stdout",
     "output_type": "stream",
     "text": [
      "<class 'pandas.core.frame.DataFrame'>\n",
      "RangeIndex: 2500 entries, 0 to 2499\n",
      "Data columns (total 15 columns):\n",
      " #   Column                          Non-Null Count  Dtype  \n",
      "---  ------                          --------------  -----  \n",
      " 0   LoanID                          2500 non-null   int64  \n",
      " 1   Amount.Requested                2499 non-null   float64\n",
      " 2   Amount.Funded.By.Investors      2499 non-null   float64\n",
      " 3   Interest.Rate                   2498 non-null   object \n",
      " 4   Loan.Length                     2500 non-null   object \n",
      " 5   Loan.Purpose                    2500 non-null   object \n",
      " 6   Debt.To.Income.Ratio            2499 non-null   object \n",
      " 7   State                           2500 non-null   object \n",
      " 8   Home.Ownership                  2499 non-null   object \n",
      " 9   Monthly.Income                  2499 non-null   float64\n",
      " 10  FICO.Range                      2498 non-null   object \n",
      " 11  Open.CREDIT.Lines               2497 non-null   float64\n",
      " 12  Revolving.CREDIT.Balance        2497 non-null   float64\n",
      " 13  Inquiries.in.the.Last.6.Months  2497 non-null   float64\n",
      " 14  Employment.Length               2423 non-null   object \n",
      "dtypes: float64(6), int64(1), object(8)\n",
      "memory usage: 293.1+ KB\n"
     ]
    }
   ],
   "source": [
    "LoansData.info()"
   ]
  },
  {
   "cell_type": "code",
   "execution_count": 10,
   "id": "ed4d91d5",
   "metadata": {},
   "outputs": [
    {
     "data": {
      "text/html": [
       "<div>\n",
       "<style scoped>\n",
       "    .dataframe tbody tr th:only-of-type {\n",
       "        vertical-align: middle;\n",
       "    }\n",
       "\n",
       "    .dataframe tbody tr th {\n",
       "        vertical-align: top;\n",
       "    }\n",
       "\n",
       "    .dataframe thead th {\n",
       "        text-align: right;\n",
       "    }\n",
       "</style>\n",
       "<table border=\"1\" class=\"dataframe\">\n",
       "  <thead>\n",
       "    <tr style=\"text-align: right;\">\n",
       "      <th></th>\n",
       "      <th>LoanID</th>\n",
       "      <th>Amount.Requested</th>\n",
       "      <th>Amount.Funded.By.Investors</th>\n",
       "      <th>Interest.Rate</th>\n",
       "      <th>Loan.Length</th>\n",
       "      <th>Loan.Purpose</th>\n",
       "      <th>Debt.To.Income.Ratio</th>\n",
       "      <th>State</th>\n",
       "      <th>Home.Ownership</th>\n",
       "      <th>Monthly.Income</th>\n",
       "      <th>FICO.Range</th>\n",
       "      <th>Open.CREDIT.Lines</th>\n",
       "      <th>Revolving.CREDIT.Balance</th>\n",
       "      <th>Inquiries.in.the.Last.6.Months</th>\n",
       "      <th>Employment.Length</th>\n",
       "    </tr>\n",
       "  </thead>\n",
       "  <tbody>\n",
       "    <tr>\n",
       "      <th>1</th>\n",
       "      <td>2</td>\n",
       "      <td>19200.0</td>\n",
       "      <td>19200.0</td>\n",
       "      <td>12.12%</td>\n",
       "      <td>36 months</td>\n",
       "      <td>debt_consolidation</td>\n",
       "      <td>28.36%</td>\n",
       "      <td>TX</td>\n",
       "      <td>MORTGAGE</td>\n",
       "      <td>4583.33</td>\n",
       "      <td>715-719</td>\n",
       "      <td>12.0</td>\n",
       "      <td>11140.0</td>\n",
       "      <td>1.0</td>\n",
       "      <td>2 years</td>\n",
       "    </tr>\n",
       "    <tr>\n",
       "      <th>2</th>\n",
       "      <td>3</td>\n",
       "      <td>35000.0</td>\n",
       "      <td>35000.0</td>\n",
       "      <td>21.98%</td>\n",
       "      <td>60 months</td>\n",
       "      <td>debt_consolidation</td>\n",
       "      <td>23.81%</td>\n",
       "      <td>CA</td>\n",
       "      <td>MORTGAGE</td>\n",
       "      <td>11500.00</td>\n",
       "      <td>690-694</td>\n",
       "      <td>14.0</td>\n",
       "      <td>21977.0</td>\n",
       "      <td>1.0</td>\n",
       "      <td>2 years</td>\n",
       "    </tr>\n",
       "    <tr>\n",
       "      <th>3</th>\n",
       "      <td>4</td>\n",
       "      <td>10000.0</td>\n",
       "      <td>9975.0</td>\n",
       "      <td>9.99%</td>\n",
       "      <td>36 months</td>\n",
       "      <td>debt_consolidation</td>\n",
       "      <td>14.30%</td>\n",
       "      <td>KS</td>\n",
       "      <td>MORTGAGE</td>\n",
       "      <td>3833.33</td>\n",
       "      <td>695-699</td>\n",
       "      <td>10.0</td>\n",
       "      <td>9346.0</td>\n",
       "      <td>0.0</td>\n",
       "      <td>5 years</td>\n",
       "    </tr>\n",
       "  </tbody>\n",
       "</table>\n",
       "</div>"
      ],
      "text/plain": [
       "   LoanID  Amount.Requested  Amount.Funded.By.Investors Interest.Rate  \\\n",
       "1       2           19200.0                     19200.0        12.12%   \n",
       "2       3           35000.0                     35000.0        21.98%   \n",
       "3       4           10000.0                      9975.0         9.99%   \n",
       "\n",
       "  Loan.Length        Loan.Purpose Debt.To.Income.Ratio State Home.Ownership  \\\n",
       "1   36 months  debt_consolidation               28.36%    TX       MORTGAGE   \n",
       "2   60 months  debt_consolidation               23.81%    CA       MORTGAGE   \n",
       "3   36 months  debt_consolidation               14.30%    KS       MORTGAGE   \n",
       "\n",
       "   Monthly.Income FICO.Range  Open.CREDIT.Lines  Revolving.CREDIT.Balance  \\\n",
       "1         4583.33    715-719               12.0                   11140.0   \n",
       "2        11500.00    690-694               14.0                   21977.0   \n",
       "3         3833.33    695-699               10.0                    9346.0   \n",
       "\n",
       "   Inquiries.in.the.Last.6.Months Employment.Length  \n",
       "1                             1.0           2 years  \n",
       "2                             1.0           2 years  \n",
       "3                             0.0           5 years  "
      ]
     },
     "execution_count": 10,
     "metadata": {},
     "output_type": "execute_result"
    }
   ],
   "source": [
    "LoansData.iloc[1:4, : ]"
   ]
  },
  {
   "cell_type": "code",
   "execution_count": 11,
   "id": "1f303b80",
   "metadata": {},
   "outputs": [
    {
     "data": {
      "text/html": [
       "<div>\n",
       "<style scoped>\n",
       "    .dataframe tbody tr th:only-of-type {\n",
       "        vertical-align: middle;\n",
       "    }\n",
       "\n",
       "    .dataframe tbody tr th {\n",
       "        vertical-align: top;\n",
       "    }\n",
       "\n",
       "    .dataframe thead th {\n",
       "        text-align: right;\n",
       "    }\n",
       "</style>\n",
       "<table border=\"1\" class=\"dataframe\">\n",
       "  <thead>\n",
       "    <tr style=\"text-align: right;\">\n",
       "      <th></th>\n",
       "      <th>LoanID</th>\n",
       "      <th>Amount.Requested</th>\n",
       "      <th>Amount.Funded.By.Investors</th>\n",
       "      <th>Interest.Rate</th>\n",
       "      <th>Loan.Length</th>\n",
       "      <th>Loan.Purpose</th>\n",
       "      <th>Debt.To.Income.Ratio</th>\n",
       "      <th>State</th>\n",
       "      <th>Home.Ownership</th>\n",
       "      <th>Monthly.Income</th>\n",
       "      <th>FICO.Range</th>\n",
       "      <th>Open.CREDIT.Lines</th>\n",
       "      <th>Revolving.CREDIT.Balance</th>\n",
       "      <th>Inquiries.in.the.Last.6.Months</th>\n",
       "      <th>Employment.Length</th>\n",
       "    </tr>\n",
       "  </thead>\n",
       "  <tbody>\n",
       "    <tr>\n",
       "      <th>0</th>\n",
       "      <td>1</td>\n",
       "      <td>20000.0</td>\n",
       "      <td>20000.0</td>\n",
       "      <td>8.90%</td>\n",
       "      <td>36 months</td>\n",
       "      <td>debt_consolidation</td>\n",
       "      <td>14.90%</td>\n",
       "      <td>SC</td>\n",
       "      <td>MORTGAGE</td>\n",
       "      <td>6541.67</td>\n",
       "      <td>735-739</td>\n",
       "      <td>14.0</td>\n",
       "      <td>14272.0</td>\n",
       "      <td>2.0</td>\n",
       "      <td>&lt; 1 year</td>\n",
       "    </tr>\n",
       "    <tr>\n",
       "      <th>1</th>\n",
       "      <td>2</td>\n",
       "      <td>19200.0</td>\n",
       "      <td>19200.0</td>\n",
       "      <td>12.12%</td>\n",
       "      <td>36 months</td>\n",
       "      <td>debt_consolidation</td>\n",
       "      <td>28.36%</td>\n",
       "      <td>TX</td>\n",
       "      <td>MORTGAGE</td>\n",
       "      <td>4583.33</td>\n",
       "      <td>715-719</td>\n",
       "      <td>12.0</td>\n",
       "      <td>11140.0</td>\n",
       "      <td>1.0</td>\n",
       "      <td>2 years</td>\n",
       "    </tr>\n",
       "  </tbody>\n",
       "</table>\n",
       "</div>"
      ],
      "text/plain": [
       "   LoanID  Amount.Requested  Amount.Funded.By.Investors Interest.Rate  \\\n",
       "0       1           20000.0                     20000.0         8.90%   \n",
       "1       2           19200.0                     19200.0        12.12%   \n",
       "\n",
       "  Loan.Length        Loan.Purpose Debt.To.Income.Ratio State Home.Ownership  \\\n",
       "0   36 months  debt_consolidation               14.90%    SC       MORTGAGE   \n",
       "1   36 months  debt_consolidation               28.36%    TX       MORTGAGE   \n",
       "\n",
       "   Monthly.Income FICO.Range  Open.CREDIT.Lines  Revolving.CREDIT.Balance  \\\n",
       "0         6541.67    735-739               14.0                   14272.0   \n",
       "1         4583.33    715-719               12.0                   11140.0   \n",
       "\n",
       "   Inquiries.in.the.Last.6.Months Employment.Length  \n",
       "0                             2.0          < 1 year  \n",
       "1                             1.0           2 years  "
      ]
     },
     "execution_count": 11,
     "metadata": {},
     "output_type": "execute_result"
    }
   ],
   "source": [
    "LoansData.head(2)"
   ]
  },
  {
   "cell_type": "code",
   "execution_count": 12,
   "id": "a9cf9a74",
   "metadata": {},
   "outputs": [
    {
     "data": {
      "text/plain": [
       "Index(['LoanID', 'Amount_Requested', 'Amount_Funded_By_Investors',\n",
       "       'Interest_Rate', 'Loan_Length', 'Loan_Purpose', 'Debt_To_Income_Ratio',\n",
       "       'State', 'Home_Ownership', 'Monthly_Income', 'FICO_Range',\n",
       "       'Open_CREDIT_Lines', 'Revolving_CREDIT_Balance',\n",
       "       'Inquiries_in_the_Last_6_Months', 'Employment_Length'],\n",
       "      dtype='object')"
      ]
     },
     "execution_count": 12,
     "metadata": {},
     "output_type": "execute_result"
    }
   ],
   "source": [
    "LoansData.columns = [i.replace('.','_') for i in LoansData.columns]\n",
    "LoansData.columns"
   ]
  },
  {
   "cell_type": "markdown",
   "id": "1096e63f",
   "metadata": {},
   "source": [
    "### Performing necessary Datatype Conversions"
   ]
  },
  {
   "cell_type": "code",
   "execution_count": 13,
   "id": "3db187ae",
   "metadata": {},
   "outputs": [],
   "source": [
    "LoansData['Debt_To_Income_Ratio']= LoansData['Debt_To_Income_Ratio'].str.replace('%','').astype('float')"
   ]
  },
  {
   "cell_type": "code",
   "execution_count": 14,
   "id": "e61bb251",
   "metadata": {},
   "outputs": [],
   "source": [
    "LoansData['Employment_Length'] = LoansData['Employment_Length'].str.replace('years','').str.replace('year','').str.replace('<','').str.replace('+','').astype('float')"
   ]
  },
  {
   "cell_type": "code",
   "execution_count": 15,
   "id": "bf5fb484",
   "metadata": {},
   "outputs": [],
   "source": [
    "LoansData['Interest_Rate'] = LoansData['Interest_Rate'].str.replace('%','').astype('float')"
   ]
  },
  {
   "cell_type": "code",
   "execution_count": 16,
   "id": "53b3b2ed",
   "metadata": {},
   "outputs": [],
   "source": [
    "LoansData['Loan_Length'] = LoansData['Loan_Length'].str.replace('months','').astype('float')"
   ]
  },
  {
   "cell_type": "code",
   "execution_count": 19,
   "id": "71c657c7",
   "metadata": {},
   "outputs": [],
   "source": [
    "LoansData['FICO_Range'] = LoansData['FICO_Range'].str.split('-',expand = True)[0].astype('float')"
   ]
  },
  {
   "cell_type": "code",
   "execution_count": 20,
   "id": "77d77b49",
   "metadata": {},
   "outputs": [
    {
     "data": {
      "text/html": [
       "<div>\n",
       "<style scoped>\n",
       "    .dataframe tbody tr th:only-of-type {\n",
       "        vertical-align: middle;\n",
       "    }\n",
       "\n",
       "    .dataframe tbody tr th {\n",
       "        vertical-align: top;\n",
       "    }\n",
       "\n",
       "    .dataframe thead th {\n",
       "        text-align: right;\n",
       "    }\n",
       "</style>\n",
       "<table border=\"1\" class=\"dataframe\">\n",
       "  <thead>\n",
       "    <tr style=\"text-align: right;\">\n",
       "      <th></th>\n",
       "      <th>LoanID</th>\n",
       "      <th>Amount_Requested</th>\n",
       "      <th>Amount_Funded_By_Investors</th>\n",
       "      <th>Interest_Rate</th>\n",
       "      <th>Loan_Length</th>\n",
       "      <th>Loan_Purpose</th>\n",
       "      <th>Debt_To_Income_Ratio</th>\n",
       "      <th>State</th>\n",
       "      <th>Home_Ownership</th>\n",
       "      <th>Monthly_Income</th>\n",
       "      <th>FICO_Range</th>\n",
       "      <th>Open_CREDIT_Lines</th>\n",
       "      <th>Revolving_CREDIT_Balance</th>\n",
       "      <th>Inquiries_in_the_Last_6_Months</th>\n",
       "      <th>Employment_Length</th>\n",
       "    </tr>\n",
       "  </thead>\n",
       "  <tbody>\n",
       "    <tr>\n",
       "      <th>0</th>\n",
       "      <td>1</td>\n",
       "      <td>20000.0</td>\n",
       "      <td>20000.0</td>\n",
       "      <td>8.90</td>\n",
       "      <td>36.0</td>\n",
       "      <td>debt_consolidation</td>\n",
       "      <td>14.90</td>\n",
       "      <td>SC</td>\n",
       "      <td>MORTGAGE</td>\n",
       "      <td>6541.67</td>\n",
       "      <td>735.0</td>\n",
       "      <td>14.0</td>\n",
       "      <td>14272.0</td>\n",
       "      <td>2.0</td>\n",
       "      <td>1.0</td>\n",
       "    </tr>\n",
       "    <tr>\n",
       "      <th>1</th>\n",
       "      <td>2</td>\n",
       "      <td>19200.0</td>\n",
       "      <td>19200.0</td>\n",
       "      <td>12.12</td>\n",
       "      <td>36.0</td>\n",
       "      <td>debt_consolidation</td>\n",
       "      <td>28.36</td>\n",
       "      <td>TX</td>\n",
       "      <td>MORTGAGE</td>\n",
       "      <td>4583.33</td>\n",
       "      <td>715.0</td>\n",
       "      <td>12.0</td>\n",
       "      <td>11140.0</td>\n",
       "      <td>1.0</td>\n",
       "      <td>2.0</td>\n",
       "    </tr>\n",
       "    <tr>\n",
       "      <th>2</th>\n",
       "      <td>3</td>\n",
       "      <td>35000.0</td>\n",
       "      <td>35000.0</td>\n",
       "      <td>21.98</td>\n",
       "      <td>60.0</td>\n",
       "      <td>debt_consolidation</td>\n",
       "      <td>23.81</td>\n",
       "      <td>CA</td>\n",
       "      <td>MORTGAGE</td>\n",
       "      <td>11500.00</td>\n",
       "      <td>690.0</td>\n",
       "      <td>14.0</td>\n",
       "      <td>21977.0</td>\n",
       "      <td>1.0</td>\n",
       "      <td>2.0</td>\n",
       "    </tr>\n",
       "    <tr>\n",
       "      <th>3</th>\n",
       "      <td>4</td>\n",
       "      <td>10000.0</td>\n",
       "      <td>9975.0</td>\n",
       "      <td>9.99</td>\n",
       "      <td>36.0</td>\n",
       "      <td>debt_consolidation</td>\n",
       "      <td>14.30</td>\n",
       "      <td>KS</td>\n",
       "      <td>MORTGAGE</td>\n",
       "      <td>3833.33</td>\n",
       "      <td>695.0</td>\n",
       "      <td>10.0</td>\n",
       "      <td>9346.0</td>\n",
       "      <td>0.0</td>\n",
       "      <td>5.0</td>\n",
       "    </tr>\n",
       "    <tr>\n",
       "      <th>4</th>\n",
       "      <td>5</td>\n",
       "      <td>12000.0</td>\n",
       "      <td>12000.0</td>\n",
       "      <td>11.71</td>\n",
       "      <td>36.0</td>\n",
       "      <td>credit_card</td>\n",
       "      <td>18.78</td>\n",
       "      <td>NJ</td>\n",
       "      <td>RENT</td>\n",
       "      <td>3195.00</td>\n",
       "      <td>695.0</td>\n",
       "      <td>11.0</td>\n",
       "      <td>14469.0</td>\n",
       "      <td>0.0</td>\n",
       "      <td>9.0</td>\n",
       "    </tr>\n",
       "  </tbody>\n",
       "</table>\n",
       "</div>"
      ],
      "text/plain": [
       "   LoanID  Amount_Requested  Amount_Funded_By_Investors  Interest_Rate  \\\n",
       "0       1           20000.0                     20000.0           8.90   \n",
       "1       2           19200.0                     19200.0          12.12   \n",
       "2       3           35000.0                     35000.0          21.98   \n",
       "3       4           10000.0                      9975.0           9.99   \n",
       "4       5           12000.0                     12000.0          11.71   \n",
       "\n",
       "   Loan_Length        Loan_Purpose  Debt_To_Income_Ratio State Home_Ownership  \\\n",
       "0         36.0  debt_consolidation                 14.90    SC       MORTGAGE   \n",
       "1         36.0  debt_consolidation                 28.36    TX       MORTGAGE   \n",
       "2         60.0  debt_consolidation                 23.81    CA       MORTGAGE   \n",
       "3         36.0  debt_consolidation                 14.30    KS       MORTGAGE   \n",
       "4         36.0         credit_card                 18.78    NJ           RENT   \n",
       "\n",
       "   Monthly_Income  FICO_Range  Open_CREDIT_Lines  Revolving_CREDIT_Balance  \\\n",
       "0         6541.67       735.0               14.0                   14272.0   \n",
       "1         4583.33       715.0               12.0                   11140.0   \n",
       "2        11500.00       690.0               14.0                   21977.0   \n",
       "3         3833.33       695.0               10.0                    9346.0   \n",
       "4         3195.00       695.0               11.0                   14469.0   \n",
       "\n",
       "   Inquiries_in_the_Last_6_Months  Employment_Length  \n",
       "0                             2.0                1.0  \n",
       "1                             1.0                2.0  \n",
       "2                             1.0                2.0  \n",
       "3                             0.0                5.0  \n",
       "4                             0.0                9.0  "
      ]
     },
     "execution_count": 20,
     "metadata": {},
     "output_type": "execute_result"
    }
   ],
   "source": [
    "LoansData.head()"
   ]
  },
  {
   "cell_type": "markdown",
   "id": "69774ec8",
   "metadata": {},
   "source": [
    "# Checking the relevant and irrelevant variables in the first phase of EDA"
   ]
  },
  {
   "cell_type": "code",
   "execution_count": 21,
   "id": "3178b99d",
   "metadata": {},
   "outputs": [
    {
     "name": "stdout",
     "output_type": "stream",
     "text": [
      "<class 'pandas.core.frame.DataFrame'>\n",
      "RangeIndex: 2500 entries, 0 to 2499\n",
      "Data columns (total 15 columns):\n",
      " #   Column                          Non-Null Count  Dtype  \n",
      "---  ------                          --------------  -----  \n",
      " 0   LoanID                          2500 non-null   int64  \n",
      " 1   Amount_Requested                2499 non-null   float64\n",
      " 2   Amount_Funded_By_Investors      2499 non-null   float64\n",
      " 3   Interest_Rate                   2498 non-null   float64\n",
      " 4   Loan_Length                     2500 non-null   float64\n",
      " 5   Loan_Purpose                    2500 non-null   object \n",
      " 6   Debt_To_Income_Ratio            2499 non-null   float64\n",
      " 7   State                           2500 non-null   object \n",
      " 8   Home_Ownership                  2499 non-null   object \n",
      " 9   Monthly_Income                  2499 non-null   float64\n",
      " 10  FICO_Range                      2498 non-null   float64\n",
      " 11  Open_CREDIT_Lines               2497 non-null   float64\n",
      " 12  Revolving_CREDIT_Balance        2497 non-null   float64\n",
      " 13  Inquiries_in_the_Last_6_Months  2497 non-null   float64\n",
      " 14  Employment_Length               2423 non-null   float64\n",
      "dtypes: float64(11), int64(1), object(3)\n",
      "memory usage: 293.1+ KB\n"
     ]
    }
   ],
   "source": [
    "LoansData.info()"
   ]
  },
  {
   "cell_type": "code",
   "execution_count": 22,
   "id": "396546ee",
   "metadata": {},
   "outputs": [
    {
     "data": {
      "text/plain": [
       "LoanID                            2500\n",
       "Amount.Requested                   380\n",
       "Amount.Funded.By.Investors         710\n",
       "Interest.Rate                      275\n",
       "Loan.Length                          2\n",
       "Loan.Purpose                        14\n",
       "Debt.To.Income.Ratio              1669\n",
       "State                               46\n",
       "Home.Ownership                       5\n",
       "Monthly.Income                     632\n",
       "FICO.Range                          38\n",
       "Open.CREDIT.Lines                   29\n",
       "Revolving.CREDIT.Balance          2349\n",
       "Inquiries.in.the.Last.6.Months      10\n",
       "Employment.Length                   11\n",
       "dtype: int64"
      ]
     },
     "execution_count": 22,
     "metadata": {},
     "output_type": "execute_result"
    }
   ],
   "source": [
    "LoansData.nunique()           # we will get 1 unique value of each column"
   ]
  },
  {
   "cell_type": "code",
   "execution_count": 23,
   "id": "f98070ff",
   "metadata": {},
   "outputs": [
    {
     "name": "stdout",
     "output_type": "stream",
     "text": [
      "<class 'pandas.core.frame.DataFrame'>\n",
      "RangeIndex: 2500 entries, 0 to 2499\n",
      "Data columns (total 15 columns):\n",
      " #   Column                          Non-Null Count  Dtype  \n",
      "---  ------                          --------------  -----  \n",
      " 0   LoanID                          2500 non-null   int64  \n",
      " 1   Amount_Requested                2499 non-null   float64\n",
      " 2   Amount_Funded_By_Investors      2499 non-null   float64\n",
      " 3   Interest_Rate                   2498 non-null   float64\n",
      " 4   Loan_Length                     2500 non-null   float64\n",
      " 5   Loan_Purpose                    2500 non-null   object \n",
      " 6   Debt_To_Income_Ratio            2499 non-null   float64\n",
      " 7   State                           2500 non-null   object \n",
      " 8   Home_Ownership                  2499 non-null   object \n",
      " 9   Monthly_Income                  2499 non-null   float64\n",
      " 10  FICO_Range                      2498 non-null   float64\n",
      " 11  Open_CREDIT_Lines               2497 non-null   float64\n",
      " 12  Revolving_CREDIT_Balance        2497 non-null   float64\n",
      " 13  Inquiries_in_the_Last_6_Months  2497 non-null   float64\n",
      " 14  Employment_Length               2423 non-null   float64\n",
      "dtypes: float64(11), int64(1), object(3)\n",
      "memory usage: 293.1+ KB\n"
     ]
    }
   ],
   "source": [
    "LoansData.info()"
   ]
  },
  {
   "cell_type": "code",
   "execution_count": 24,
   "id": "28f65200",
   "metadata": {},
   "outputs": [
    {
     "data": {
      "text/plain": [
       "Loan_Length\n",
       "36.0    1952\n",
       "60.0     548\n",
       "Name: count, dtype: int64"
      ]
     },
     "execution_count": 24,
     "metadata": {},
     "output_type": "execute_result"
    }
   ],
   "source": [
    "LoansData['Loan_Length'].value_counts()            #Always checks the value counts of object variable."
   ]
  },
  {
   "cell_type": "markdown",
   "id": "43a76bda",
   "metadata": {},
   "source": [
    "### Distribution of customers by loan lengths"
   ]
  },
  {
   "cell_type": "code",
   "execution_count": 26,
   "id": "f957dcbd",
   "metadata": {},
   "outputs": [
    {
     "name": "stdout",
     "output_type": "stream",
     "text": [
      "Loan_Length\n",
      "36.0    1952\n",
      "60.0     548\n",
      "Name: count, dtype: int64\n"
     ]
    },
    {
     "data": {
      "text/plain": [
       "Text(0, 0.5, 'No of customers')"
      ]
     },
     "execution_count": 26,
     "metadata": {},
     "output_type": "execute_result"
    },
    {
     "data": {
      "image/png": "[encoded data removed]",
      "text/plain": [
       "<Figure size 500x500 with 1 Axes>"
      ]
     },
     "metadata": {},
     "output_type": "display_data"
    }
   ],
   "source": [
    "print(LoansData['Loan_Length'].value_counts())\n",
    "LoansData['Loan_Length'].value_counts().plot(kind = 'bar',color = 'blue',figsize = (5,5))\n",
    "plt.title(\"Distribution of customers by their loan lengths.\")\n",
    "plt.xlabel(\"Loan length\")\n",
    "plt.ylabel(\"No of customers\")"
   ]
  },
  {
   "cell_type": "markdown",
   "id": "ce37df37",
   "metadata": {},
   "source": [
    "1952 Customers has chosen the loan length of 36.0"
   ]
  },
  {
   "cell_type": "markdown",
   "id": "006441bf",
   "metadata": {},
   "source": [
    "### Distribution of customers by State"
   ]
  },
  {
   "cell_type": "code",
   "execution_count": 27,
   "id": "e8e272de",
   "metadata": {},
   "outputs": [
    {
     "name": "stdout",
     "output_type": "stream",
     "text": [
      "State\n",
      "CA    433\n",
      "NY    255\n",
      "TX    174\n",
      "FL    169\n",
      "IL    101\n",
      "GA     98\n",
      "PA     96\n",
      "NJ     94\n",
      "VA     78\n",
      "MA     73\n",
      "OH     71\n",
      "MD     68\n",
      "NC     64\n",
      "CO     61\n",
      "WA     58\n",
      "CT     50\n",
      "AZ     46\n",
      "MI     45\n",
      "MN     38\n",
      "AL     38\n",
      "MO     33\n",
      "NV     32\n",
      "OR     30\n",
      "SC     28\n",
      "WI     26\n",
      "KY     23\n",
      "LA     22\n",
      "OK     21\n",
      "KS     21\n",
      "UT     16\n",
      "NH     15\n",
      "RI     15\n",
      "WV     15\n",
      "NM     13\n",
      "AR     13\n",
      "HI     12\n",
      "AK     11\n",
      "DC     11\n",
      "DE      8\n",
      "MT      7\n",
      "VT      5\n",
      "SD      4\n",
      "WY      4\n",
      "IN      3\n",
      "IA      1\n",
      "MS      1\n",
      "Name: count, dtype: int64\n"
     ]
    },
    {
     "data": {
      "text/plain": [
       "Text(0, 0.5, 'No of customers')"
      ]
     },
     "execution_count": 27,
     "metadata": {},
     "output_type": "execute_result"
    },
    {
     "data": {
      "image/png": "[encoded data removed]",
      "text/plain": [
       "<Figure size 2000x1500 with 1 Axes>"
      ]
     },
     "metadata": {},
     "output_type": "display_data"
    }
   ],
   "source": [
    "print(LoansData['State'].value_counts())\n",
    "LoansData['State'].value_counts().plot(kind = 'bar',color = 'purple',figsize = (20,15))\n",
    "plt.title(\"Distribution of customers by their State.\")\n",
    "plt.xlabel(\"States\")\n",
    "plt.ylabel(\"No of customers\")"
   ]
  },
  {
   "cell_type": "markdown",
   "id": "2834a70b",
   "metadata": {},
   "source": [
    "CA State has the most number of Customers of 433"
   ]
  },
  {
   "cell_type": "markdown",
   "id": "e990520f",
   "metadata": {},
   "source": [
    "### Distribution of customers by loan purpose"
   ]
  },
  {
   "cell_type": "code",
   "execution_count": 28,
   "id": "8f2f58dd",
   "metadata": {},
   "outputs": [
    {
     "name": "stdout",
     "output_type": "stream",
     "text": [
      "Loan_Purpose\n",
      "debt_consolidation    1307\n",
      "credit_card            444\n",
      "other                  201\n",
      "home_improvement       152\n",
      "major_purchase         101\n",
      "small_business          87\n",
      "car                     50\n",
      "wedding                 39\n",
      "medical                 30\n",
      "moving                  29\n",
      "vacation                21\n",
      "house                   20\n",
      "educational             15\n",
      "renewable_energy         4\n",
      "Name: count, dtype: int64\n"
     ]
    },
    {
     "data": {
      "text/plain": [
       "Text(0, 0.5, 'No of customers')"
      ]
     },
     "execution_count": 28,
     "metadata": {},
     "output_type": "execute_result"
    },
    {
     "data": {
      "image/png": "[encoded data removed]",
      "text/plain": [
       "<Figure size 1000x500 with 1 Axes>"
      ]
     },
     "metadata": {},
     "output_type": "display_data"
    }
   ],
   "source": [
    "print(LoansData['Loan_Purpose'].value_counts())\n",
    "LoansData['Loan_Purpose'].value_counts().plot(kind = 'bar',color = 'yellow',figsize = (10,5))\n",
    "plt.title(\"Distribution of customers by their Loan_Purpose.\")\n",
    "plt.xlabel(\"Loan_Purpose\")\n",
    "plt.ylabel(\"No of customers\")"
   ]
  },
  {
   "cell_type": "markdown",
   "id": "b6a573ad",
   "metadata": {},
   "source": [
    "1307 Customers has the loan purpose of debt_consolidation"
   ]
  },
  {
   "cell_type": "markdown",
   "id": "7eb5e84a",
   "metadata": {},
   "source": [
    "### Distribution of customers by Home ownership"
   ]
  },
  {
   "cell_type": "code",
   "execution_count": 30,
   "id": "706a52a6",
   "metadata": {},
   "outputs": [
    {
     "name": "stdout",
     "output_type": "stream",
     "text": [
      "Home_Ownership\n",
      "MORTGAGE    1147\n",
      "RENT        1146\n",
      "OWN          200\n",
      "OTHER          5\n",
      "NONE           1\n",
      "Name: count, dtype: int64\n"
     ]
    },
    {
     "data": {
      "text/plain": [
       "Text(0, 0.5, 'No of customers')"
      ]
     },
     "execution_count": 30,
     "metadata": {},
     "output_type": "execute_result"
    },
    {
     "data": {
      "image/png": "[encoded data removed]",
      "text/plain": [
       "<Figure size 800x500 with 1 Axes>"
      ]
     },
     "metadata": {},
     "output_type": "display_data"
    }
   ],
   "source": [
    "print(LoansData['Home_Ownership'].value_counts())\n",
    "LoansData['Home_Ownership'].value_counts().plot(kind = 'bar',color = 'Maroon',figsize = (8,5))\n",
    "plt.title(\"Distribution of customers by their Home_Ownership.\")\n",
    "plt.xlabel(\"Home_Ownership\")\n",
    "plt.ylabel(\"No of customers\")"
   ]
  },
  {
   "cell_type": "markdown",
   "id": "5077829b",
   "metadata": {},
   "source": [
    "### Distribution of Employment Length by their loan lengths"
   ]
  },
  {
   "cell_type": "code",
   "execution_count": 31,
   "id": "ef97434e",
   "metadata": {},
   "outputs": [
    {
     "name": "stdout",
     "output_type": "stream",
     "text": [
      "Loan_Length\n",
      "36.0    1952\n",
      "60.0     548\n",
      "Name: count, dtype: int64\n"
     ]
    },
    {
     "data": {
      "text/plain": [
       "Text(0, 0.5, 'Employment.Length')"
      ]
     },
     "execution_count": 31,
     "metadata": {},
     "output_type": "execute_result"
    },
    {
     "data": {
      "image/png": "[encoded data removed]",
      "text/plain": [
       "<Figure size 800x500 with 1 Axes>"
      ]
     },
     "metadata": {},
     "output_type": "display_data"
    }
   ],
   "source": [
    "print(LoansData['Loan_Length'].value_counts())\n",
    "LoansData['Loan_Length'].value_counts().plot(kind = 'line',color = 'black',figsize = (8,5))\n",
    "plt.title(\"Distribution of Employment.Length by their loan lengths.\")\n",
    "plt.xlabel(\"Loan length\")\n",
    "plt.ylabel(\"Employment.Length\")"
   ]
  },
  {
   "cell_type": "markdown",
   "id": "32efaf6f",
   "metadata": {},
   "source": [
    "### Amount Requested compared to the corresponding Interest Rate\""
   ]
  },
  {
   "cell_type": "code",
   "execution_count": 33,
   "id": "83bc35e7",
   "metadata": {},
   "outputs": [
    {
     "data": {
      "image/png": "[encoded data removed]",
      "text/plain": [
       "<Figure size 640x480 with 2 Axes>"
      ]
     },
     "metadata": {},
     "output_type": "display_data"
    }
   ],
   "source": [
    "plt.scatter(LoansData['Amount_Requested'],LoansData['Interest_Rate'])\n",
    "plt.title(\"Comparison of Amount Requested and Interest Rate\")\n",
    "plt.xlabel('Amount_Requested')\n",
    "plt.ylabel('Interest_Rate')\n",
    "plt.colorbar()\n",
    "plt.show()"
   ]
  },
  {
   "cell_type": "markdown",
   "id": "db8b814f",
   "metadata": {},
   "source": [
    "Most of the Customers has requested the amount of upto $10000-$15000 and the Interest Rate being 5.0-17.5"
   ]
  },
  {
   "cell_type": "code",
   "execution_count": 35,
   "id": "10d9bece",
   "metadata": {},
   "outputs": [
    {
     "data": {
      "image/png": "[encoded data removed]",
      "text/plain": [
       "<Figure size 640x480 with 1 Axes>"
      ]
     },
     "metadata": {},
     "output_type": "display_data"
    }
   ],
   "source": [
    "plt.hist(LoansData['Interest_Rate'],color='green')\n",
    "plt.title('Interest_Rate')\n",
    "plt.show()"
   ]
  },
  {
   "cell_type": "code",
   "execution_count": 36,
   "id": "590d1303",
   "metadata": {},
   "outputs": [
    {
     "data": {
      "image/png": "[encoded data removed]",
      "text/plain": [
       "<Figure size 640x480 with 1 Axes>"
      ]
     },
     "metadata": {},
     "output_type": "display_data"
    }
   ],
   "source": [
    "plt.hist(LoansData['Debt_To_Income_Ratio'],color='red')\n",
    "plt.title('Debt_To_Income_Ratio')\n",
    "plt.show()"
   ]
  },
  {
   "cell_type": "markdown",
   "id": "c5ca0718",
   "metadata": {},
   "source": [
    "## Data Duplicacy Treatment(DDT): Checking if there is any duplicate data or not"
   ]
  },
  {
   "cell_type": "code",
   "execution_count": 38,
   "id": "e734b9fd",
   "metadata": {},
   "outputs": [
    {
     "data": {
      "text/plain": [
       "False    2500\n",
       "Name: count, dtype: int64"
      ]
     },
     "execution_count": 38,
     "metadata": {},
     "output_type": "execute_result"
    }
   ],
   "source": [
    "LoansData.duplicated().value_counts()"
   ]
  },
  {
   "cell_type": "code",
   "execution_count": 39,
   "id": "42d6cf56",
   "metadata": {},
   "outputs": [
    {
     "data": {
      "text/plain": [
       "0"
      ]
     },
     "execution_count": 39,
     "metadata": {},
     "output_type": "execute_result"
    }
   ],
   "source": [
    "LoansData.duplicated().sum()"
   ]
  },
  {
   "cell_type": "markdown",
   "id": "9f1c6d13",
   "metadata": {},
   "source": [
    "No Duplicate Data has been found in our DataFrame"
   ]
  },
  {
   "cell_type": "markdown",
   "id": "056abcbc",
   "metadata": {},
   "source": [
    "# Rename the variables"
   ]
  },
  {
   "cell_type": "code",
   "execution_count": 40,
   "id": "910be1d7",
   "metadata": {},
   "outputs": [
    {
     "data": {
      "text/plain": [
       "Index(['LoanID', 'Amount_Requested', 'Amount_Funded_By_Investors',\n",
       "       'Interest_Rate', 'Loan_Length', 'Loan_Purpose', 'Debt_To_Income_Ratio',\n",
       "       'State', 'Home_Ownership', 'Monthly_Income', 'FICO_Range',\n",
       "       'Open_CREDIT_Lines', 'Revolving_CREDIT_Balance',\n",
       "       'Inquiries_in_the_Last_6_Months', 'Employment_Length'],\n",
       "      dtype='object')"
      ]
     },
     "execution_count": 40,
     "metadata": {},
     "output_type": "execute_result"
    }
   ],
   "source": [
    "LoansData.columns"
   ]
  },
  {
   "cell_type": "code",
   "execution_count": 41,
   "id": "6dbe63fe",
   "metadata": {},
   "outputs": [
    {
     "data": {
      "text/plain": [
       "Index(['LoanID', 'Amount.Requested', 'Amount.Funded.By.Investors',\n",
       "       'Interest.Rate', 'Loan.Length', 'Loan.Purpose', 'Debt.To.Income.Ratio',\n",
       "       'State', 'Home.Ownership', 'Monthly.Income', 'FICO.Range',\n",
       "       'Open.CREDIT.Lines', 'Revolving.CREDIT.Balance',\n",
       "       'Inquiries.in.the.Last.6.Months', 'Employment.Length'],\n",
       "      dtype='object')"
      ]
     },
     "execution_count": 41,
     "metadata": {},
     "output_type": "execute_result"
    }
   ],
   "source": [
    "LoansData = LoansData.rename(columns = {'LoanID':'Loan_id','State':'States'})\n",
    "data.columns"
   ]
  },
  {
   "cell_type": "markdown",
   "id": "c99fc976",
   "metadata": {},
   "source": [
    "# Missing Values Treatment"
   ]
  },
  {
   "cell_type": "code",
   "execution_count": 42,
   "id": "03d0343a",
   "metadata": {},
   "outputs": [
    {
     "data": {
      "text/html": [
       "<div>\n",
       "<style scoped>\n",
       "    .dataframe tbody tr th:only-of-type {\n",
       "        vertical-align: middle;\n",
       "    }\n",
       "\n",
       "    .dataframe tbody tr th {\n",
       "        vertical-align: top;\n",
       "    }\n",
       "\n",
       "    .dataframe thead th {\n",
       "        text-align: right;\n",
       "    }\n",
       "</style>\n",
       "<table border=\"1\" class=\"dataframe\">\n",
       "  <thead>\n",
       "    <tr style=\"text-align: right;\">\n",
       "      <th></th>\n",
       "      <th>Loan_id</th>\n",
       "      <th>Amount_Requested</th>\n",
       "      <th>Amount_Funded_By_Investors</th>\n",
       "      <th>Interest_Rate</th>\n",
       "      <th>Loan_Length</th>\n",
       "      <th>Loan_Purpose</th>\n",
       "      <th>Debt_To_Income_Ratio</th>\n",
       "      <th>States</th>\n",
       "      <th>Home_Ownership</th>\n",
       "      <th>Monthly_Income</th>\n",
       "      <th>FICO_Range</th>\n",
       "      <th>Open_CREDIT_Lines</th>\n",
       "      <th>Revolving_CREDIT_Balance</th>\n",
       "      <th>Inquiries_in_the_Last_6_Months</th>\n",
       "      <th>Employment_Length</th>\n",
       "    </tr>\n",
       "  </thead>\n",
       "  <tbody>\n",
       "    <tr>\n",
       "      <th>0</th>\n",
       "      <td>1</td>\n",
       "      <td>20000.0</td>\n",
       "      <td>20000.0</td>\n",
       "      <td>8.90</td>\n",
       "      <td>36.0</td>\n",
       "      <td>debt_consolidation</td>\n",
       "      <td>14.90</td>\n",
       "      <td>SC</td>\n",
       "      <td>MORTGAGE</td>\n",
       "      <td>6541.67</td>\n",
       "      <td>735.0</td>\n",
       "      <td>14.0</td>\n",
       "      <td>14272.0</td>\n",
       "      <td>2.0</td>\n",
       "      <td>1.0</td>\n",
       "    </tr>\n",
       "    <tr>\n",
       "      <th>1</th>\n",
       "      <td>2</td>\n",
       "      <td>19200.0</td>\n",
       "      <td>19200.0</td>\n",
       "      <td>12.12</td>\n",
       "      <td>36.0</td>\n",
       "      <td>debt_consolidation</td>\n",
       "      <td>28.36</td>\n",
       "      <td>TX</td>\n",
       "      <td>MORTGAGE</td>\n",
       "      <td>4583.33</td>\n",
       "      <td>715.0</td>\n",
       "      <td>12.0</td>\n",
       "      <td>11140.0</td>\n",
       "      <td>1.0</td>\n",
       "      <td>2.0</td>\n",
       "    </tr>\n",
       "    <tr>\n",
       "      <th>2</th>\n",
       "      <td>3</td>\n",
       "      <td>35000.0</td>\n",
       "      <td>35000.0</td>\n",
       "      <td>21.98</td>\n",
       "      <td>60.0</td>\n",
       "      <td>debt_consolidation</td>\n",
       "      <td>23.81</td>\n",
       "      <td>CA</td>\n",
       "      <td>MORTGAGE</td>\n",
       "      <td>11500.00</td>\n",
       "      <td>690.0</td>\n",
       "      <td>14.0</td>\n",
       "      <td>21977.0</td>\n",
       "      <td>1.0</td>\n",
       "      <td>2.0</td>\n",
       "    </tr>\n",
       "    <tr>\n",
       "      <th>3</th>\n",
       "      <td>4</td>\n",
       "      <td>10000.0</td>\n",
       "      <td>9975.0</td>\n",
       "      <td>9.99</td>\n",
       "      <td>36.0</td>\n",
       "      <td>debt_consolidation</td>\n",
       "      <td>14.30</td>\n",
       "      <td>KS</td>\n",
       "      <td>MORTGAGE</td>\n",
       "      <td>3833.33</td>\n",
       "      <td>695.0</td>\n",
       "      <td>10.0</td>\n",
       "      <td>9346.0</td>\n",
       "      <td>0.0</td>\n",
       "      <td>5.0</td>\n",
       "    </tr>\n",
       "    <tr>\n",
       "      <th>4</th>\n",
       "      <td>5</td>\n",
       "      <td>12000.0</td>\n",
       "      <td>12000.0</td>\n",
       "      <td>11.71</td>\n",
       "      <td>36.0</td>\n",
       "      <td>credit_card</td>\n",
       "      <td>18.78</td>\n",
       "      <td>NJ</td>\n",
       "      <td>RENT</td>\n",
       "      <td>3195.00</td>\n",
       "      <td>695.0</td>\n",
       "      <td>11.0</td>\n",
       "      <td>14469.0</td>\n",
       "      <td>0.0</td>\n",
       "      <td>9.0</td>\n",
       "    </tr>\n",
       "  </tbody>\n",
       "</table>\n",
       "</div>"
      ],
      "text/plain": [
       "   Loan_id  Amount_Requested  Amount_Funded_By_Investors  Interest_Rate  \\\n",
       "0        1           20000.0                     20000.0           8.90   \n",
       "1        2           19200.0                     19200.0          12.12   \n",
       "2        3           35000.0                     35000.0          21.98   \n",
       "3        4           10000.0                      9975.0           9.99   \n",
       "4        5           12000.0                     12000.0          11.71   \n",
       "\n",
       "   Loan_Length        Loan_Purpose  Debt_To_Income_Ratio States  \\\n",
       "0         36.0  debt_consolidation                 14.90     SC   \n",
       "1         36.0  debt_consolidation                 28.36     TX   \n",
       "2         60.0  debt_consolidation                 23.81     CA   \n",
       "3         36.0  debt_consolidation                 14.30     KS   \n",
       "4         36.0         credit_card                 18.78     NJ   \n",
       "\n",
       "  Home_Ownership  Monthly_Income  FICO_Range  Open_CREDIT_Lines  \\\n",
       "0       MORTGAGE         6541.67       735.0               14.0   \n",
       "1       MORTGAGE         4583.33       715.0               12.0   \n",
       "2       MORTGAGE        11500.00       690.0               14.0   \n",
       "3       MORTGAGE         3833.33       695.0               10.0   \n",
       "4           RENT         3195.00       695.0               11.0   \n",
       "\n",
       "   Revolving_CREDIT_Balance  Inquiries_in_the_Last_6_Months  Employment_Length  \n",
       "0                   14272.0                             2.0                1.0  \n",
       "1                   11140.0                             1.0                2.0  \n",
       "2                   21977.0                             1.0                2.0  \n",
       "3                    9346.0                             0.0                5.0  \n",
       "4                   14469.0                             0.0                9.0  "
      ]
     },
     "execution_count": 42,
     "metadata": {},
     "output_type": "execute_result"
    }
   ],
   "source": [
    "LoansData.head()"
   ]
  },
  {
   "cell_type": "code",
   "execution_count": 43,
   "id": "aad95e2c",
   "metadata": {},
   "outputs": [
    {
     "data": {
      "text/plain": [
       "1"
      ]
     },
     "execution_count": 43,
     "metadata": {},
     "output_type": "execute_result"
    }
   ],
   "source": [
    "LoansData.Amount_Requested.isna().sum() "
   ]
  },
  {
   "cell_type": "code",
   "execution_count": 44,
   "id": "8578588e",
   "metadata": {},
   "outputs": [
    {
     "data": {
      "text/plain": [
       "(2500, 15)"
      ]
     },
     "execution_count": 44,
     "metadata": {},
     "output_type": "execute_result"
    }
   ],
   "source": [
    "LoansData.shape"
   ]
  },
  {
   "cell_type": "code",
   "execution_count": 45,
   "id": "d23d990b",
   "metadata": {},
   "outputs": [
    {
     "data": {
      "text/plain": [
       "Loan_id                            0\n",
       "Amount_Requested                   1\n",
       "Amount_Funded_By_Investors         1\n",
       "Interest_Rate                      2\n",
       "Loan_Length                        0\n",
       "Loan_Purpose                       0\n",
       "Debt_To_Income_Ratio               1\n",
       "States                             0\n",
       "Home_Ownership                     1\n",
       "Monthly_Income                     1\n",
       "FICO_Range                         2\n",
       "Open_CREDIT_Lines                  3\n",
       "Revolving_CREDIT_Balance           3\n",
       "Inquiries_in_the_Last_6_Months     3\n",
       "Employment_Length                 77\n",
       "dtype: int64"
      ]
     },
     "execution_count": 45,
     "metadata": {},
     "output_type": "execute_result"
    }
   ],
   "source": [
    "LoansData.isna().sum()"
   ]
  },
  {
   "cell_type": "markdown",
   "id": "8eab5bc9",
   "metadata": {},
   "source": [
    "There are approximately 3% of Missing values in Employment Variable"
   ]
  },
  {
   "cell_type": "markdown",
   "id": "0831bbb5",
   "metadata": {},
   "source": [
    "### Creating a UDF which can automate the missing value treatment."
   ]
  },
  {
   "cell_type": "code",
   "execution_count": 46,
   "id": "5fb24e9b",
   "metadata": {},
   "outputs": [
    {
     "data": {
      "text/plain": [
       "(2500, 15)"
      ]
     },
     "execution_count": 46,
     "metadata": {},
     "output_type": "execute_result"
    }
   ],
   "source": [
    "LoansData.shape"
   ]
  },
  {
   "cell_type": "code",
   "execution_count": 47,
   "id": "2426e5c1",
   "metadata": {},
   "outputs": [
    {
     "data": {
      "text/plain": [
       "Index(['Loan_id', 'Amount_Requested', 'Amount_Funded_By_Investors',\n",
       "       'Interest_Rate', 'Loan_Length', 'Loan_Purpose', 'Debt_To_Income_Ratio',\n",
       "       'States', 'Home_Ownership', 'Monthly_Income', 'FICO_Range',\n",
       "       'Open_CREDIT_Lines', 'Revolving_CREDIT_Balance',\n",
       "       'Inquiries_in_the_Last_6_Months', 'Employment_Length'],\n",
       "      dtype='object')"
      ]
     },
     "execution_count": 47,
     "metadata": {},
     "output_type": "execute_result"
    }
   ],
   "source": [
    "LoansData.columns"
   ]
  },
  {
   "cell_type": "code",
   "execution_count": 48,
   "id": "a041932d",
   "metadata": {},
   "outputs": [],
   "source": [
    "def missing_value_treatment(s):\n",
    "    if s.dtype == 'O':\n",
    "        s = s.fillna(s.mode())\n",
    "    else:\n",
    "        s = s.fillna(s.median())\n",
    "    return s"
   ]
  },
  {
   "cell_type": "code",
   "execution_count": 50,
   "id": "0a5b6ec8",
   "metadata": {},
   "outputs": [],
   "source": [
    "LoansData = LoansData.apply(missing_value_treatment)"
   ]
  },
  {
   "cell_type": "code",
   "execution_count": 51,
   "id": "4da04d66",
   "metadata": {},
   "outputs": [
    {
     "data": {
      "text/plain": [
       "Loan_id                           0\n",
       "Amount_Requested                  0\n",
       "Amount_Funded_By_Investors        0\n",
       "Interest_Rate                     0\n",
       "Loan_Length                       0\n",
       "Loan_Purpose                      0\n",
       "Debt_To_Income_Ratio              0\n",
       "States                            0\n",
       "Home_Ownership                    1\n",
       "Monthly_Income                    0\n",
       "FICO_Range                        0\n",
       "Open_CREDIT_Lines                 0\n",
       "Revolving_CREDIT_Balance          0\n",
       "Inquiries_in_the_Last_6_Months    0\n",
       "Employment_Length                 0\n",
       "dtype: int64"
      ]
     },
     "execution_count": 51,
     "metadata": {},
     "output_type": "execute_result"
    }
   ],
   "source": [
    "LoansData.isna().sum()"
   ]
  },
  {
   "cell_type": "code",
   "execution_count": 53,
   "id": "d7116903",
   "metadata": {},
   "outputs": [],
   "source": [
    "LoansData['Amount_Requested'] = LoansData.Amount_Requested.fillna(LoansData['Amount_Requested'].median())"
   ]
  },
  {
   "cell_type": "code",
   "execution_count": 54,
   "id": "eaec19c1",
   "metadata": {},
   "outputs": [],
   "source": [
    "LoansData['Amount_Funded_By_Investors'] = LoansData.Amount_Funded_By_Investors.fillna(LoansData['Amount_Funded_By_Investors'].median())"
   ]
  },
  {
   "cell_type": "code",
   "execution_count": 55,
   "id": "5d97d1fc",
   "metadata": {},
   "outputs": [
    {
     "data": {
      "text/plain": [
       "Loan_id                           0\n",
       "Amount_Requested                  0\n",
       "Amount_Funded_By_Investors        0\n",
       "Interest_Rate                     0\n",
       "Loan_Length                       0\n",
       "Loan_Purpose                      0\n",
       "Debt_To_Income_Ratio              0\n",
       "States                            0\n",
       "Home_Ownership                    1\n",
       "Monthly_Income                    0\n",
       "FICO_Range                        0\n",
       "Open_CREDIT_Lines                 0\n",
       "Revolving_CREDIT_Balance          0\n",
       "Inquiries_in_the_Last_6_Months    0\n",
       "Employment_Length                 0\n",
       "dtype: int64"
      ]
     },
     "execution_count": 55,
     "metadata": {},
     "output_type": "execute_result"
    }
   ],
   "source": [
    "LoansData.isna().sum()"
   ]
  },
  {
   "cell_type": "code",
   "execution_count": 56,
   "id": "cdf5fc51",
   "metadata": {},
   "outputs": [
    {
     "name": "stdout",
     "output_type": "stream",
     "text": [
      "<class 'pandas.core.frame.DataFrame'>\n",
      "RangeIndex: 2500 entries, 0 to 2499\n",
      "Data columns (total 15 columns):\n",
      " #   Column                          Non-Null Count  Dtype  \n",
      "---  ------                          --------------  -----  \n",
      " 0   Loan_id                         2500 non-null   int64  \n",
      " 1   Amount_Requested                2500 non-null   float64\n",
      " 2   Amount_Funded_By_Investors      2500 non-null   float64\n",
      " 3   Interest_Rate                   2500 non-null   float64\n",
      " 4   Loan_Length                     2500 non-null   float64\n",
      " 5   Loan_Purpose                    2500 non-null   object \n",
      " 6   Debt_To_Income_Ratio            2500 non-null   float64\n",
      " 7   States                          2500 non-null   object \n",
      " 8   Home_Ownership                  2499 non-null   object \n",
      " 9   Monthly_Income                  2500 non-null   float64\n",
      " 10  FICO_Range                      2500 non-null   float64\n",
      " 11  Open_CREDIT_Lines               2500 non-null   float64\n",
      " 12  Revolving_CREDIT_Balance        2500 non-null   float64\n",
      " 13  Inquiries_in_the_Last_6_Months  2500 non-null   float64\n",
      " 14  Employment_Length               2500 non-null   float64\n",
      "dtypes: float64(11), int64(1), object(3)\n",
      "memory usage: 293.1+ KB\n"
     ]
    }
   ],
   "source": [
    "LoansData.info()"
   ]
  },
  {
   "cell_type": "code",
   "execution_count": 57,
   "id": "c8acb1ec",
   "metadata": {},
   "outputs": [
    {
     "data": {
      "text/plain": [
       "Index(['Loan_id', 'Amount_Requested', 'Amount_Funded_By_Investors',\n",
       "       'Interest_Rate', 'Loan_Length', 'Loan_Purpose', 'Debt_To_Income_Ratio',\n",
       "       'States', 'Home_Ownership', 'Monthly_Income', 'FICO_Range',\n",
       "       'Open_CREDIT_Lines', 'Revolving_CREDIT_Balance',\n",
       "       'Inquiries_in_the_Last_6_Months', 'Employment_Length'],\n",
       "      dtype='object')"
      ]
     },
     "execution_count": 57,
     "metadata": {},
     "output_type": "execute_result"
    }
   ],
   "source": [
    "LoansData.columns"
   ]
  },
  {
   "cell_type": "markdown",
   "id": "8a66d03a",
   "metadata": {},
   "source": [
    "# Separating the Categorical variables and Numerical variables"
   ]
  },
  {
   "cell_type": "code",
   "execution_count": 58,
   "id": "c1dcde16",
   "metadata": {},
   "outputs": [
    {
     "data": {
      "text/plain": [
       "['Loan_Purpose', 'States', 'Home_Ownership']"
      ]
     },
     "execution_count": 58,
     "metadata": {},
     "output_type": "execute_result"
    }
   ],
   "source": [
    "Categorical = [var for var in LoansData.columns if LoansData[var].dtype == 'O']\n",
    "Categorical"
   ]
  },
  {
   "cell_type": "code",
   "execution_count": 60,
   "id": "910a2f51",
   "metadata": {},
   "outputs": [],
   "source": [
    "Cat_Data = LoansData[Categorical]"
   ]
  },
  {
   "cell_type": "code",
   "execution_count": 61,
   "id": "e0a5c1b0",
   "metadata": {},
   "outputs": [
    {
     "name": "stderr",
     "output_type": "stream",
     "text": [
      "C:\\Users\\Dell\\AppData\\Local\\Temp\\ipykernel_16544\\835738112.py:1: SettingWithCopyWarning: \n",
      "A value is trying to be set on a copy of a slice from a DataFrame.\n",
      "Try using .loc[row_indexer,col_indexer] = value instead\n",
      "\n",
      "See the caveats in the documentation: https://pandas.pydata.org/pandas-docs/stable/user_guide/indexing.html#returning-a-view-versus-a-copy\n",
      "  Cat_Data['Loan_id'] = LoansData['Loan_id']\n"
     ]
    }
   ],
   "source": [
    "Cat_Data['Loan_id'] = LoansData['Loan_id']"
   ]
  },
  {
   "cell_type": "code",
   "execution_count": 62,
   "id": "c1963f32",
   "metadata": {},
   "outputs": [
    {
     "data": {
      "text/html": [
       "<div>\n",
       "<style scoped>\n",
       "    .dataframe tbody tr th:only-of-type {\n",
       "        vertical-align: middle;\n",
       "    }\n",
       "\n",
       "    .dataframe tbody tr th {\n",
       "        vertical-align: top;\n",
       "    }\n",
       "\n",
       "    .dataframe thead th {\n",
       "        text-align: right;\n",
       "    }\n",
       "</style>\n",
       "<table border=\"1\" class=\"dataframe\">\n",
       "  <thead>\n",
       "    <tr style=\"text-align: right;\">\n",
       "      <th></th>\n",
       "      <th>Loan_Purpose</th>\n",
       "      <th>States</th>\n",
       "      <th>Home_Ownership</th>\n",
       "      <th>Loan_id</th>\n",
       "    </tr>\n",
       "  </thead>\n",
       "  <tbody>\n",
       "    <tr>\n",
       "      <th>0</th>\n",
       "      <td>debt_consolidation</td>\n",
       "      <td>SC</td>\n",
       "      <td>MORTGAGE</td>\n",
       "      <td>1</td>\n",
       "    </tr>\n",
       "    <tr>\n",
       "      <th>1</th>\n",
       "      <td>debt_consolidation</td>\n",
       "      <td>TX</td>\n",
       "      <td>MORTGAGE</td>\n",
       "      <td>2</td>\n",
       "    </tr>\n",
       "    <tr>\n",
       "      <th>2</th>\n",
       "      <td>debt_consolidation</td>\n",
       "      <td>CA</td>\n",
       "      <td>MORTGAGE</td>\n",
       "      <td>3</td>\n",
       "    </tr>\n",
       "    <tr>\n",
       "      <th>3</th>\n",
       "      <td>debt_consolidation</td>\n",
       "      <td>KS</td>\n",
       "      <td>MORTGAGE</td>\n",
       "      <td>4</td>\n",
       "    </tr>\n",
       "    <tr>\n",
       "      <th>4</th>\n",
       "      <td>credit_card</td>\n",
       "      <td>NJ</td>\n",
       "      <td>RENT</td>\n",
       "      <td>5</td>\n",
       "    </tr>\n",
       "  </tbody>\n",
       "</table>\n",
       "</div>"
      ],
      "text/plain": [
       "         Loan_Purpose States Home_Ownership  Loan_id\n",
       "0  debt_consolidation     SC       MORTGAGE        1\n",
       "1  debt_consolidation     TX       MORTGAGE        2\n",
       "2  debt_consolidation     CA       MORTGAGE        3\n",
       "3  debt_consolidation     KS       MORTGAGE        4\n",
       "4         credit_card     NJ           RENT        5"
      ]
     },
     "execution_count": 62,
     "metadata": {},
     "output_type": "execute_result"
    }
   ],
   "source": [
    "Cat_Data.head()"
   ]
  },
  {
   "cell_type": "code",
   "execution_count": 63,
   "id": "0864050f",
   "metadata": {},
   "outputs": [
    {
     "data": {
      "text/plain": [
       "(2500, 4)"
      ]
     },
     "execution_count": 63,
     "metadata": {},
     "output_type": "execute_result"
    }
   ],
   "source": [
    "Cat_Data.shape"
   ]
  },
  {
   "cell_type": "code",
   "execution_count": 64,
   "id": "8ff09e43",
   "metadata": {},
   "outputs": [],
   "source": [
    "Numerical = [var for var in LoansData.columns if LoansData[var].dtype != 'O']"
   ]
  },
  {
   "cell_type": "code",
   "execution_count": 65,
   "id": "f6ac5254",
   "metadata": {},
   "outputs": [],
   "source": [
    "Num_Data = LoansData[Numerical]"
   ]
  },
  {
   "cell_type": "code",
   "execution_count": 66,
   "id": "0f5ec0cd",
   "metadata": {},
   "outputs": [
    {
     "data": {
      "text/html": [
       "<div>\n",
       "<style scoped>\n",
       "    .dataframe tbody tr th:only-of-type {\n",
       "        vertical-align: middle;\n",
       "    }\n",
       "\n",
       "    .dataframe tbody tr th {\n",
       "        vertical-align: top;\n",
       "    }\n",
       "\n",
       "    .dataframe thead th {\n",
       "        text-align: right;\n",
       "    }\n",
       "</style>\n",
       "<table border=\"1\" class=\"dataframe\">\n",
       "  <thead>\n",
       "    <tr style=\"text-align: right;\">\n",
       "      <th></th>\n",
       "      <th>Loan_id</th>\n",
       "      <th>Amount_Requested</th>\n",
       "      <th>Amount_Funded_By_Investors</th>\n",
       "      <th>Interest_Rate</th>\n",
       "      <th>Loan_Length</th>\n",
       "      <th>Debt_To_Income_Ratio</th>\n",
       "      <th>Monthly_Income</th>\n",
       "      <th>FICO_Range</th>\n",
       "      <th>Open_CREDIT_Lines</th>\n",
       "      <th>Revolving_CREDIT_Balance</th>\n",
       "      <th>Inquiries_in_the_Last_6_Months</th>\n",
       "      <th>Employment_Length</th>\n",
       "    </tr>\n",
       "  </thead>\n",
       "  <tbody>\n",
       "    <tr>\n",
       "      <th>0</th>\n",
       "      <td>1</td>\n",
       "      <td>20000.0</td>\n",
       "      <td>20000.0</td>\n",
       "      <td>8.90</td>\n",
       "      <td>36.0</td>\n",
       "      <td>14.90</td>\n",
       "      <td>6541.67</td>\n",
       "      <td>735.0</td>\n",
       "      <td>14.0</td>\n",
       "      <td>14272.0</td>\n",
       "      <td>2.0</td>\n",
       "      <td>1.0</td>\n",
       "    </tr>\n",
       "    <tr>\n",
       "      <th>1</th>\n",
       "      <td>2</td>\n",
       "      <td>19200.0</td>\n",
       "      <td>19200.0</td>\n",
       "      <td>12.12</td>\n",
       "      <td>36.0</td>\n",
       "      <td>28.36</td>\n",
       "      <td>4583.33</td>\n",
       "      <td>715.0</td>\n",
       "      <td>12.0</td>\n",
       "      <td>11140.0</td>\n",
       "      <td>1.0</td>\n",
       "      <td>2.0</td>\n",
       "    </tr>\n",
       "    <tr>\n",
       "      <th>2</th>\n",
       "      <td>3</td>\n",
       "      <td>35000.0</td>\n",
       "      <td>35000.0</td>\n",
       "      <td>21.98</td>\n",
       "      <td>60.0</td>\n",
       "      <td>23.81</td>\n",
       "      <td>11500.00</td>\n",
       "      <td>690.0</td>\n",
       "      <td>14.0</td>\n",
       "      <td>21977.0</td>\n",
       "      <td>1.0</td>\n",
       "      <td>2.0</td>\n",
       "    </tr>\n",
       "    <tr>\n",
       "      <th>3</th>\n",
       "      <td>4</td>\n",
       "      <td>10000.0</td>\n",
       "      <td>9975.0</td>\n",
       "      <td>9.99</td>\n",
       "      <td>36.0</td>\n",
       "      <td>14.30</td>\n",
       "      <td>3833.33</td>\n",
       "      <td>695.0</td>\n",
       "      <td>10.0</td>\n",
       "      <td>9346.0</td>\n",
       "      <td>0.0</td>\n",
       "      <td>5.0</td>\n",
       "    </tr>\n",
       "    <tr>\n",
       "      <th>4</th>\n",
       "      <td>5</td>\n",
       "      <td>12000.0</td>\n",
       "      <td>12000.0</td>\n",
       "      <td>11.71</td>\n",
       "      <td>36.0</td>\n",
       "      <td>18.78</td>\n",
       "      <td>3195.00</td>\n",
       "      <td>695.0</td>\n",
       "      <td>11.0</td>\n",
       "      <td>14469.0</td>\n",
       "      <td>0.0</td>\n",
       "      <td>9.0</td>\n",
       "    </tr>\n",
       "  </tbody>\n",
       "</table>\n",
       "</div>"
      ],
      "text/plain": [
       "   Loan_id  Amount_Requested  Amount_Funded_By_Investors  Interest_Rate  \\\n",
       "0        1           20000.0                     20000.0           8.90   \n",
       "1        2           19200.0                     19200.0          12.12   \n",
       "2        3           35000.0                     35000.0          21.98   \n",
       "3        4           10000.0                      9975.0           9.99   \n",
       "4        5           12000.0                     12000.0          11.71   \n",
       "\n",
       "   Loan_Length  Debt_To_Income_Ratio  Monthly_Income  FICO_Range  \\\n",
       "0         36.0                 14.90         6541.67       735.0   \n",
       "1         36.0                 28.36         4583.33       715.0   \n",
       "2         60.0                 23.81        11500.00       690.0   \n",
       "3         36.0                 14.30         3833.33       695.0   \n",
       "4         36.0                 18.78         3195.00       695.0   \n",
       "\n",
       "   Open_CREDIT_Lines  Revolving_CREDIT_Balance  \\\n",
       "0               14.0                   14272.0   \n",
       "1               12.0                   11140.0   \n",
       "2               14.0                   21977.0   \n",
       "3               10.0                    9346.0   \n",
       "4               11.0                   14469.0   \n",
       "\n",
       "   Inquiries_in_the_Last_6_Months  Employment_Length  \n",
       "0                             2.0                1.0  \n",
       "1                             1.0                2.0  \n",
       "2                             1.0                2.0  \n",
       "3                             0.0                5.0  \n",
       "4                             0.0                9.0  "
      ]
     },
     "execution_count": 66,
     "metadata": {},
     "output_type": "execute_result"
    }
   ],
   "source": [
    "Num_Data.head()"
   ]
  },
  {
   "cell_type": "markdown",
   "id": "ca1066e1",
   "metadata": {},
   "source": [
    "# Filling missing values in Numerical data with the Median values"
   ]
  },
  {
   "cell_type": "code",
   "execution_count": 67,
   "id": "e4f501ed",
   "metadata": {},
   "outputs": [
    {
     "name": "stderr",
     "output_type": "stream",
     "text": [
      "C:\\Users\\Dell\\AppData\\Local\\Temp\\ipykernel_16544\\1415850397.py:2: SettingWithCopyWarning: \n",
      "A value is trying to be set on a copy of a slice from a DataFrame.\n",
      "Try using .loc[row_indexer,col_indexer] = value instead\n",
      "\n",
      "See the caveats in the documentation: https://pandas.pydata.org/pandas-docs/stable/user_guide/indexing.html#returning-a-view-versus-a-copy\n",
      "  Num_Data[i] = Num_Data[i].fillna(Num_Data[i].median())\n"
     ]
    }
   ],
   "source": [
    "for i in Num_Data.columns:\n",
    "        Num_Data[i] = Num_Data[i].fillna(Num_Data[i].median())"
   ]
  },
  {
   "cell_type": "code",
   "execution_count": 68,
   "id": "f3cfc99a",
   "metadata": {},
   "outputs": [
    {
     "data": {
      "text/plain": [
       "Loan_id                           0\n",
       "Amount_Requested                  0\n",
       "Amount_Funded_By_Investors        0\n",
       "Interest_Rate                     0\n",
       "Loan_Length                       0\n",
       "Debt_To_Income_Ratio              0\n",
       "Monthly_Income                    0\n",
       "FICO_Range                        0\n",
       "Open_CREDIT_Lines                 0\n",
       "Revolving_CREDIT_Balance          0\n",
       "Inquiries_in_the_Last_6_Months    0\n",
       "Employment_Length                 0\n",
       "dtype: int64"
      ]
     },
     "execution_count": 68,
     "metadata": {},
     "output_type": "execute_result"
    }
   ],
   "source": [
    "Num_Data.isna().sum()"
   ]
  },
  {
   "cell_type": "markdown",
   "id": "ca526cd5",
   "metadata": {},
   "source": [
    "# Filling missing values in Categorical Data with the Mode values"
   ]
  },
  {
   "cell_type": "code",
   "execution_count": 69,
   "id": "beea016d",
   "metadata": {},
   "outputs": [
    {
     "name": "stderr",
     "output_type": "stream",
     "text": [
      "C:\\Users\\Dell\\AppData\\Local\\Temp\\ipykernel_16544\\2286898510.py:2: SettingWithCopyWarning: \n",
      "A value is trying to be set on a copy of a slice from a DataFrame.\n",
      "Try using .loc[row_indexer,col_indexer] = value instead\n",
      "\n",
      "See the caveats in the documentation: https://pandas.pydata.org/pandas-docs/stable/user_guide/indexing.html#returning-a-view-versus-a-copy\n",
      "  Cat_Data[i] = Cat_Data[i].fillna(Cat_Data[i].mode())\n"
     ]
    }
   ],
   "source": [
    "for i in Cat_Data.columns:\n",
    "        Cat_Data[i] = Cat_Data[i].fillna(Cat_Data[i].mode())"
   ]
  },
  {
   "cell_type": "code",
   "execution_count": 70,
   "id": "310c776b",
   "metadata": {},
   "outputs": [
    {
     "data": {
      "text/plain": [
       "Loan_Purpose      0\n",
       "States            0\n",
       "Home_Ownership    1\n",
       "Loan_id           0\n",
       "dtype: int64"
      ]
     },
     "execution_count": 70,
     "metadata": {},
     "output_type": "execute_result"
    }
   ],
   "source": [
    "Cat_Data.isna().sum()"
   ]
  },
  {
   "cell_type": "code",
   "execution_count": 71,
   "id": "80bc94c6",
   "metadata": {},
   "outputs": [
    {
     "data": {
      "text/plain": [
       "2499"
      ]
     },
     "execution_count": 71,
     "metadata": {},
     "output_type": "execute_result"
    }
   ],
   "source": [
    "Cat_Data.Home_Ownership.count()"
   ]
  },
  {
   "cell_type": "code",
   "execution_count": 72,
   "id": "e669cd8f",
   "metadata": {},
   "outputs": [
    {
     "data": {
      "text/plain": [
       "Home_Ownership\n",
       "MORTGAGE    1147\n",
       "RENT        1146\n",
       "OWN          200\n",
       "OTHER          5\n",
       "NONE           1\n",
       "Name: count, dtype: int64"
      ]
     },
     "execution_count": 72,
     "metadata": {},
     "output_type": "execute_result"
    }
   ],
   "source": [
    "Cat_Data.Home_Ownership.value_counts()"
   ]
  },
  {
   "cell_type": "code",
   "execution_count": 73,
   "id": "8262589b",
   "metadata": {},
   "outputs": [
    {
     "data": {
      "text/html": [
       "<div>\n",
       "<style scoped>\n",
       "    .dataframe tbody tr th:only-of-type {\n",
       "        vertical-align: middle;\n",
       "    }\n",
       "\n",
       "    .dataframe tbody tr th {\n",
       "        vertical-align: top;\n",
       "    }\n",
       "\n",
       "    .dataframe thead th {\n",
       "        text-align: right;\n",
       "    }\n",
       "</style>\n",
       "<table border=\"1\" class=\"dataframe\">\n",
       "  <thead>\n",
       "    <tr style=\"text-align: right;\">\n",
       "      <th></th>\n",
       "      <th>Loan_Purpose</th>\n",
       "      <th>States</th>\n",
       "      <th>Home_Ownership</th>\n",
       "      <th>Loan_id</th>\n",
       "    </tr>\n",
       "  </thead>\n",
       "  <tbody>\n",
       "  </tbody>\n",
       "</table>\n",
       "</div>"
      ],
      "text/plain": [
       "Empty DataFrame\n",
       "Columns: [Loan_Purpose, States, Home_Ownership, Loan_id]\n",
       "Index: []"
      ]
     },
     "execution_count": 73,
     "metadata": {},
     "output_type": "execute_result"
    }
   ],
   "source": [
    "Cat_Data.loc[Cat_Data['Home_Ownership'] == None]"
   ]
  },
  {
   "cell_type": "code",
   "execution_count": 74,
   "id": "888b0433",
   "metadata": {},
   "outputs": [
    {
     "data": {
      "text/plain": [
       "2492    True\n",
       "Name: Home_Ownership, dtype: bool"
      ]
     },
     "execution_count": 74,
     "metadata": {},
     "output_type": "execute_result"
    }
   ],
   "source": [
    "s = pd.Series(Cat_Data.Home_Ownership.isna())\n",
    "s[s == True]"
   ]
  },
  {
   "cell_type": "code",
   "execution_count": 76,
   "id": "5f8b25fa",
   "metadata": {},
   "outputs": [
    {
     "data": {
      "text/plain": [
       "Loan_Purpose      debt_consolidation\n",
       "States                            NJ\n",
       "Home_Ownership                   NaN\n",
       "Loan_id                         2493\n",
       "Name: 2492, dtype: object"
      ]
     },
     "execution_count": 76,
     "metadata": {},
     "output_type": "execute_result"
    }
   ],
   "source": [
    "Cat_Data.loc[2492, : ]"
   ]
  },
  {
   "cell_type": "code",
   "execution_count": 77,
   "id": "3831b082",
   "metadata": {},
   "outputs": [
    {
     "name": "stderr",
     "output_type": "stream",
     "text": [
      "C:\\Users\\Dell\\AppData\\Local\\Temp\\ipykernel_16544\\4215009373.py:1: SettingWithCopyWarning: \n",
      "A value is trying to be set on a copy of a slice from a DataFrame.\n",
      "Try using .loc[row_indexer,col_indexer] = value instead\n",
      "\n",
      "See the caveats in the documentation: https://pandas.pydata.org/pandas-docs/stable/user_guide/indexing.html#returning-a-view-versus-a-copy\n",
      "  Cat_Data['Home_Ownership']  = Cat_Data['Home_Ownership'].replace(\"NaN\",None)\n"
     ]
    }
   ],
   "source": [
    "Cat_Data['Home_Ownership']  = Cat_Data['Home_Ownership'].replace(\"NaN\",None)"
   ]
  },
  {
   "cell_type": "code",
   "execution_count": 78,
   "id": "442b8838",
   "metadata": {},
   "outputs": [
    {
     "data": {
      "text/plain": [
       "Home_Ownership\n",
       "MORTGAGE    1147\n",
       "RENT        1146\n",
       "OWN          200\n",
       "OTHER          5\n",
       "NONE           1\n",
       "Name: count, dtype: int64"
      ]
     },
     "execution_count": 78,
     "metadata": {},
     "output_type": "execute_result"
    }
   ],
   "source": [
    "Cat_Data.Home_Ownership.value_counts()"
   ]
  },
  {
   "cell_type": "code",
   "execution_count": 79,
   "id": "84cde15c",
   "metadata": {},
   "outputs": [
    {
     "data": {
      "text/plain": [
       "Loan_Purpose      0\n",
       "States            0\n",
       "Home_Ownership    1\n",
       "Loan_id           0\n",
       "dtype: int64"
      ]
     },
     "execution_count": 79,
     "metadata": {},
     "output_type": "execute_result"
    }
   ],
   "source": [
    "Cat_Data.isna().sum()"
   ]
  },
  {
   "cell_type": "code",
   "execution_count": 80,
   "id": "aec40a24",
   "metadata": {},
   "outputs": [
    {
     "data": {
      "text/html": [
       "<div>\n",
       "<style scoped>\n",
       "    .dataframe tbody tr th:only-of-type {\n",
       "        vertical-align: middle;\n",
       "    }\n",
       "\n",
       "    .dataframe tbody tr th {\n",
       "        vertical-align: top;\n",
       "    }\n",
       "\n",
       "    .dataframe thead th {\n",
       "        text-align: right;\n",
       "    }\n",
       "</style>\n",
       "<table border=\"1\" class=\"dataframe\">\n",
       "  <thead>\n",
       "    <tr style=\"text-align: right;\">\n",
       "      <th></th>\n",
       "      <th>Loan_Purpose</th>\n",
       "      <th>States</th>\n",
       "      <th>Home_Ownership</th>\n",
       "      <th>Loan_id</th>\n",
       "    </tr>\n",
       "  </thead>\n",
       "  <tbody>\n",
       "    <tr>\n",
       "      <th>2490</th>\n",
       "      <td>debt_consolidation</td>\n",
       "      <td>CA</td>\n",
       "      <td>RENT</td>\n",
       "      <td>2491</td>\n",
       "    </tr>\n",
       "    <tr>\n",
       "      <th>2491</th>\n",
       "      <td>debt_consolidation</td>\n",
       "      <td>CA</td>\n",
       "      <td>RENT</td>\n",
       "      <td>2492</td>\n",
       "    </tr>\n",
       "    <tr>\n",
       "      <th>2492</th>\n",
       "      <td>debt_consolidation</td>\n",
       "      <td>NJ</td>\n",
       "      <td>NaN</td>\n",
       "      <td>2493</td>\n",
       "    </tr>\n",
       "    <tr>\n",
       "      <th>2493</th>\n",
       "      <td>other</td>\n",
       "      <td>IL</td>\n",
       "      <td>MORTGAGE</td>\n",
       "      <td>2494</td>\n",
       "    </tr>\n",
       "    <tr>\n",
       "      <th>2494</th>\n",
       "      <td>debt_consolidation</td>\n",
       "      <td>WA</td>\n",
       "      <td>MORTGAGE</td>\n",
       "      <td>2495</td>\n",
       "    </tr>\n",
       "    <tr>\n",
       "      <th>2495</th>\n",
       "      <td>debt_consolidation</td>\n",
       "      <td>NY</td>\n",
       "      <td>MORTGAGE</td>\n",
       "      <td>2496</td>\n",
       "    </tr>\n",
       "    <tr>\n",
       "      <th>2496</th>\n",
       "      <td>home_improvement</td>\n",
       "      <td>MD</td>\n",
       "      <td>OWN</td>\n",
       "      <td>2497</td>\n",
       "    </tr>\n",
       "    <tr>\n",
       "      <th>2497</th>\n",
       "      <td>debt_consolidation</td>\n",
       "      <td>PA</td>\n",
       "      <td>MORTGAGE</td>\n",
       "      <td>2498</td>\n",
       "    </tr>\n",
       "    <tr>\n",
       "      <th>2498</th>\n",
       "      <td>major_purchase</td>\n",
       "      <td>NJ</td>\n",
       "      <td>RENT</td>\n",
       "      <td>2499</td>\n",
       "    </tr>\n",
       "    <tr>\n",
       "      <th>2499</th>\n",
       "      <td>debt_consolidation</td>\n",
       "      <td>NY</td>\n",
       "      <td>RENT</td>\n",
       "      <td>2500</td>\n",
       "    </tr>\n",
       "  </tbody>\n",
       "</table>\n",
       "</div>"
      ],
      "text/plain": [
       "            Loan_Purpose States Home_Ownership  Loan_id\n",
       "2490  debt_consolidation     CA           RENT     2491\n",
       "2491  debt_consolidation     CA           RENT     2492\n",
       "2492  debt_consolidation     NJ            NaN     2493\n",
       "2493               other     IL       MORTGAGE     2494\n",
       "2494  debt_consolidation     WA       MORTGAGE     2495\n",
       "2495  debt_consolidation     NY       MORTGAGE     2496\n",
       "2496    home_improvement     MD            OWN     2497\n",
       "2497  debt_consolidation     PA       MORTGAGE     2498\n",
       "2498      major_purchase     NJ           RENT     2499\n",
       "2499  debt_consolidation     NY           RENT     2500"
      ]
     },
     "execution_count": 80,
     "metadata": {},
     "output_type": "execute_result"
    }
   ],
   "source": [
    "Cat_Data.tail(10)"
   ]
  },
  {
   "cell_type": "code",
   "execution_count": 81,
   "id": "2f913d35",
   "metadata": {},
   "outputs": [],
   "source": [
    "Cat_Data = Cat_Data.drop(2492)"
   ]
  },
  {
   "cell_type": "code",
   "execution_count": 82,
   "id": "a9cd502e",
   "metadata": {},
   "outputs": [
    {
     "data": {
      "text/html": [
       "<div>\n",
       "<style scoped>\n",
       "    .dataframe tbody tr th:only-of-type {\n",
       "        vertical-align: middle;\n",
       "    }\n",
       "\n",
       "    .dataframe tbody tr th {\n",
       "        vertical-align: top;\n",
       "    }\n",
       "\n",
       "    .dataframe thead th {\n",
       "        text-align: right;\n",
       "    }\n",
       "</style>\n",
       "<table border=\"1\" class=\"dataframe\">\n",
       "  <thead>\n",
       "    <tr style=\"text-align: right;\">\n",
       "      <th></th>\n",
       "      <th>Loan_Purpose</th>\n",
       "      <th>States</th>\n",
       "      <th>Home_Ownership</th>\n",
       "      <th>Loan_id</th>\n",
       "    </tr>\n",
       "  </thead>\n",
       "  <tbody>\n",
       "    <tr>\n",
       "      <th>2489</th>\n",
       "      <td>debt_consolidation</td>\n",
       "      <td>NY</td>\n",
       "      <td>RENT</td>\n",
       "      <td>2490</td>\n",
       "    </tr>\n",
       "    <tr>\n",
       "      <th>2490</th>\n",
       "      <td>debt_consolidation</td>\n",
       "      <td>CA</td>\n",
       "      <td>RENT</td>\n",
       "      <td>2491</td>\n",
       "    </tr>\n",
       "    <tr>\n",
       "      <th>2491</th>\n",
       "      <td>debt_consolidation</td>\n",
       "      <td>CA</td>\n",
       "      <td>RENT</td>\n",
       "      <td>2492</td>\n",
       "    </tr>\n",
       "    <tr>\n",
       "      <th>2493</th>\n",
       "      <td>other</td>\n",
       "      <td>IL</td>\n",
       "      <td>MORTGAGE</td>\n",
       "      <td>2494</td>\n",
       "    </tr>\n",
       "    <tr>\n",
       "      <th>2494</th>\n",
       "      <td>debt_consolidation</td>\n",
       "      <td>WA</td>\n",
       "      <td>MORTGAGE</td>\n",
       "      <td>2495</td>\n",
       "    </tr>\n",
       "    <tr>\n",
       "      <th>2495</th>\n",
       "      <td>debt_consolidation</td>\n",
       "      <td>NY</td>\n",
       "      <td>MORTGAGE</td>\n",
       "      <td>2496</td>\n",
       "    </tr>\n",
       "    <tr>\n",
       "      <th>2496</th>\n",
       "      <td>home_improvement</td>\n",
       "      <td>MD</td>\n",
       "      <td>OWN</td>\n",
       "      <td>2497</td>\n",
       "    </tr>\n",
       "    <tr>\n",
       "      <th>2497</th>\n",
       "      <td>debt_consolidation</td>\n",
       "      <td>PA</td>\n",
       "      <td>MORTGAGE</td>\n",
       "      <td>2498</td>\n",
       "    </tr>\n",
       "    <tr>\n",
       "      <th>2498</th>\n",
       "      <td>major_purchase</td>\n",
       "      <td>NJ</td>\n",
       "      <td>RENT</td>\n",
       "      <td>2499</td>\n",
       "    </tr>\n",
       "    <tr>\n",
       "      <th>2499</th>\n",
       "      <td>debt_consolidation</td>\n",
       "      <td>NY</td>\n",
       "      <td>RENT</td>\n",
       "      <td>2500</td>\n",
       "    </tr>\n",
       "  </tbody>\n",
       "</table>\n",
       "</div>"
      ],
      "text/plain": [
       "            Loan_Purpose States Home_Ownership  Loan_id\n",
       "2489  debt_consolidation     NY           RENT     2490\n",
       "2490  debt_consolidation     CA           RENT     2491\n",
       "2491  debt_consolidation     CA           RENT     2492\n",
       "2493               other     IL       MORTGAGE     2494\n",
       "2494  debt_consolidation     WA       MORTGAGE     2495\n",
       "2495  debt_consolidation     NY       MORTGAGE     2496\n",
       "2496    home_improvement     MD            OWN     2497\n",
       "2497  debt_consolidation     PA       MORTGAGE     2498\n",
       "2498      major_purchase     NJ           RENT     2499\n",
       "2499  debt_consolidation     NY           RENT     2500"
      ]
     },
     "execution_count": 82,
     "metadata": {},
     "output_type": "execute_result"
    }
   ],
   "source": [
    "Cat_Data.tail(10)"
   ]
  },
  {
   "cell_type": "code",
   "execution_count": 83,
   "id": "4f411b5d",
   "metadata": {},
   "outputs": [
    {
     "data": {
      "text/plain": [
       "Loan_Purpose      0\n",
       "States            0\n",
       "Home_Ownership    0\n",
       "Loan_id           0\n",
       "dtype: int64"
      ]
     },
     "execution_count": 83,
     "metadata": {},
     "output_type": "execute_result"
    }
   ],
   "source": [
    "Cat_Data.isna().sum()"
   ]
  },
  {
   "cell_type": "code",
   "execution_count": 84,
   "id": "09571ca1",
   "metadata": {},
   "outputs": [
    {
     "data": {
      "text/plain": [
       "(2499, 4)"
      ]
     },
     "execution_count": 84,
     "metadata": {},
     "output_type": "execute_result"
    }
   ],
   "source": [
    "Cat_Data.shape"
   ]
  },
  {
   "cell_type": "code",
   "execution_count": 85,
   "id": "976fe52d",
   "metadata": {},
   "outputs": [],
   "source": [
    "Num_Data = Num_Data.drop(2492)"
   ]
  },
  {
   "cell_type": "code",
   "execution_count": 86,
   "id": "1ae85fe9",
   "metadata": {},
   "outputs": [
    {
     "data": {
      "text/plain": [
       "(2499, 12)"
      ]
     },
     "execution_count": 86,
     "metadata": {},
     "output_type": "execute_result"
    }
   ],
   "source": [
    "Num_Data.shape"
   ]
  },
  {
   "cell_type": "code",
   "execution_count": 87,
   "id": "7a58e338",
   "metadata": {},
   "outputs": [],
   "source": [
    "# For Merging the Two Datasets, There should be a common column."
   ]
  },
  {
   "cell_type": "code",
   "execution_count": 88,
   "id": "e0240779",
   "metadata": {},
   "outputs": [
    {
     "data": {
      "text/html": [
       "<div>\n",
       "<style scoped>\n",
       "    .dataframe tbody tr th:only-of-type {\n",
       "        vertical-align: middle;\n",
       "    }\n",
       "\n",
       "    .dataframe tbody tr th {\n",
       "        vertical-align: top;\n",
       "    }\n",
       "\n",
       "    .dataframe thead th {\n",
       "        text-align: right;\n",
       "    }\n",
       "</style>\n",
       "<table border=\"1\" class=\"dataframe\">\n",
       "  <thead>\n",
       "    <tr style=\"text-align: right;\">\n",
       "      <th></th>\n",
       "      <th>Loan_Purpose</th>\n",
       "      <th>States</th>\n",
       "      <th>Home_Ownership</th>\n",
       "      <th>Loan_id</th>\n",
       "    </tr>\n",
       "  </thead>\n",
       "  <tbody>\n",
       "    <tr>\n",
       "      <th>0</th>\n",
       "      <td>debt_consolidation</td>\n",
       "      <td>SC</td>\n",
       "      <td>MORTGAGE</td>\n",
       "      <td>1</td>\n",
       "    </tr>\n",
       "    <tr>\n",
       "      <th>1</th>\n",
       "      <td>debt_consolidation</td>\n",
       "      <td>TX</td>\n",
       "      <td>MORTGAGE</td>\n",
       "      <td>2</td>\n",
       "    </tr>\n",
       "  </tbody>\n",
       "</table>\n",
       "</div>"
      ],
      "text/plain": [
       "         Loan_Purpose States Home_Ownership  Loan_id\n",
       "0  debt_consolidation     SC       MORTGAGE        1\n",
       "1  debt_consolidation     TX       MORTGAGE        2"
      ]
     },
     "execution_count": 88,
     "metadata": {},
     "output_type": "execute_result"
    }
   ],
   "source": [
    "Cat_Data.head(2)"
   ]
  },
  {
   "cell_type": "code",
   "execution_count": 89,
   "id": "af53caeb",
   "metadata": {},
   "outputs": [
    {
     "data": {
      "text/html": [
       "<div>\n",
       "<style scoped>\n",
       "    .dataframe tbody tr th:only-of-type {\n",
       "        vertical-align: middle;\n",
       "    }\n",
       "\n",
       "    .dataframe tbody tr th {\n",
       "        vertical-align: top;\n",
       "    }\n",
       "\n",
       "    .dataframe thead th {\n",
       "        text-align: right;\n",
       "    }\n",
       "</style>\n",
       "<table border=\"1\" class=\"dataframe\">\n",
       "  <thead>\n",
       "    <tr style=\"text-align: right;\">\n",
       "      <th></th>\n",
       "      <th>Loan_id</th>\n",
       "      <th>Amount_Requested</th>\n",
       "      <th>Amount_Funded_By_Investors</th>\n",
       "      <th>Interest_Rate</th>\n",
       "      <th>Loan_Length</th>\n",
       "      <th>Debt_To_Income_Ratio</th>\n",
       "      <th>Monthly_Income</th>\n",
       "      <th>FICO_Range</th>\n",
       "      <th>Open_CREDIT_Lines</th>\n",
       "      <th>Revolving_CREDIT_Balance</th>\n",
       "      <th>Inquiries_in_the_Last_6_Months</th>\n",
       "      <th>Employment_Length</th>\n",
       "    </tr>\n",
       "  </thead>\n",
       "  <tbody>\n",
       "    <tr>\n",
       "      <th>0</th>\n",
       "      <td>1</td>\n",
       "      <td>20000.0</td>\n",
       "      <td>20000.0</td>\n",
       "      <td>8.90</td>\n",
       "      <td>36.0</td>\n",
       "      <td>14.90</td>\n",
       "      <td>6541.67</td>\n",
       "      <td>735.0</td>\n",
       "      <td>14.0</td>\n",
       "      <td>14272.0</td>\n",
       "      <td>2.0</td>\n",
       "      <td>1.0</td>\n",
       "    </tr>\n",
       "    <tr>\n",
       "      <th>1</th>\n",
       "      <td>2</td>\n",
       "      <td>19200.0</td>\n",
       "      <td>19200.0</td>\n",
       "      <td>12.12</td>\n",
       "      <td>36.0</td>\n",
       "      <td>28.36</td>\n",
       "      <td>4583.33</td>\n",
       "      <td>715.0</td>\n",
       "      <td>12.0</td>\n",
       "      <td>11140.0</td>\n",
       "      <td>1.0</td>\n",
       "      <td>2.0</td>\n",
       "    </tr>\n",
       "  </tbody>\n",
       "</table>\n",
       "</div>"
      ],
      "text/plain": [
       "   Loan_id  Amount_Requested  Amount_Funded_By_Investors  Interest_Rate  \\\n",
       "0        1           20000.0                     20000.0           8.90   \n",
       "1        2           19200.0                     19200.0          12.12   \n",
       "\n",
       "   Loan_Length  Debt_To_Income_Ratio  Monthly_Income  FICO_Range  \\\n",
       "0         36.0                 14.90         6541.67       735.0   \n",
       "1         36.0                 28.36         4583.33       715.0   \n",
       "\n",
       "   Open_CREDIT_Lines  Revolving_CREDIT_Balance  \\\n",
       "0               14.0                   14272.0   \n",
       "1               12.0                   11140.0   \n",
       "\n",
       "   Inquiries_in_the_Last_6_Months  Employment_Length  \n",
       "0                             2.0                1.0  \n",
       "1                             1.0                2.0  "
      ]
     },
     "execution_count": 89,
     "metadata": {},
     "output_type": "execute_result"
    }
   ],
   "source": [
    "Num_Data.head(2)"
   ]
  },
  {
   "cell_type": "markdown",
   "id": "3562a80e",
   "metadata": {},
   "source": [
    "# Outlier Treatment"
   ]
  },
  {
   "cell_type": "code",
   "execution_count": 90,
   "id": "c80b6635",
   "metadata": {},
   "outputs": [
    {
     "data": {
      "text/html": [
       "<div>\n",
       "<style scoped>\n",
       "    .dataframe tbody tr th:only-of-type {\n",
       "        vertical-align: middle;\n",
       "    }\n",
       "\n",
       "    .dataframe tbody tr th {\n",
       "        vertical-align: top;\n",
       "    }\n",
       "\n",
       "    .dataframe thead th {\n",
       "        text-align: right;\n",
       "    }\n",
       "</style>\n",
       "<table border=\"1\" class=\"dataframe\">\n",
       "  <thead>\n",
       "    <tr style=\"text-align: right;\">\n",
       "      <th></th>\n",
       "      <th>Loan_id</th>\n",
       "      <th>Amount_Requested</th>\n",
       "      <th>Amount_Funded_By_Investors</th>\n",
       "      <th>Interest_Rate</th>\n",
       "      <th>Loan_Length</th>\n",
       "      <th>Debt_To_Income_Ratio</th>\n",
       "      <th>Monthly_Income</th>\n",
       "      <th>FICO_Range</th>\n",
       "      <th>Open_CREDIT_Lines</th>\n",
       "      <th>Revolving_CREDIT_Balance</th>\n",
       "      <th>Inquiries_in_the_Last_6_Months</th>\n",
       "      <th>Employment_Length</th>\n",
       "    </tr>\n",
       "  </thead>\n",
       "  <tbody>\n",
       "    <tr>\n",
       "      <th>0</th>\n",
       "      <td>1</td>\n",
       "      <td>20000.0</td>\n",
       "      <td>20000.0</td>\n",
       "      <td>8.90</td>\n",
       "      <td>36.0</td>\n",
       "      <td>14.90</td>\n",
       "      <td>6541.67</td>\n",
       "      <td>735.0</td>\n",
       "      <td>14.0</td>\n",
       "      <td>14272.0</td>\n",
       "      <td>2.0</td>\n",
       "      <td>1.0</td>\n",
       "    </tr>\n",
       "    <tr>\n",
       "      <th>1</th>\n",
       "      <td>2</td>\n",
       "      <td>19200.0</td>\n",
       "      <td>19200.0</td>\n",
       "      <td>12.12</td>\n",
       "      <td>36.0</td>\n",
       "      <td>28.36</td>\n",
       "      <td>4583.33</td>\n",
       "      <td>715.0</td>\n",
       "      <td>12.0</td>\n",
       "      <td>11140.0</td>\n",
       "      <td>1.0</td>\n",
       "      <td>2.0</td>\n",
       "    </tr>\n",
       "    <tr>\n",
       "      <th>2</th>\n",
       "      <td>3</td>\n",
       "      <td>35000.0</td>\n",
       "      <td>35000.0</td>\n",
       "      <td>21.98</td>\n",
       "      <td>60.0</td>\n",
       "      <td>23.81</td>\n",
       "      <td>11500.00</td>\n",
       "      <td>690.0</td>\n",
       "      <td>14.0</td>\n",
       "      <td>21977.0</td>\n",
       "      <td>1.0</td>\n",
       "      <td>2.0</td>\n",
       "    </tr>\n",
       "    <tr>\n",
       "      <th>3</th>\n",
       "      <td>4</td>\n",
       "      <td>10000.0</td>\n",
       "      <td>9975.0</td>\n",
       "      <td>9.99</td>\n",
       "      <td>36.0</td>\n",
       "      <td>14.30</td>\n",
       "      <td>3833.33</td>\n",
       "      <td>695.0</td>\n",
       "      <td>10.0</td>\n",
       "      <td>9346.0</td>\n",
       "      <td>0.0</td>\n",
       "      <td>5.0</td>\n",
       "    </tr>\n",
       "    <tr>\n",
       "      <th>4</th>\n",
       "      <td>5</td>\n",
       "      <td>12000.0</td>\n",
       "      <td>12000.0</td>\n",
       "      <td>11.71</td>\n",
       "      <td>36.0</td>\n",
       "      <td>18.78</td>\n",
       "      <td>3195.00</td>\n",
       "      <td>695.0</td>\n",
       "      <td>11.0</td>\n",
       "      <td>14469.0</td>\n",
       "      <td>0.0</td>\n",
       "      <td>9.0</td>\n",
       "    </tr>\n",
       "  </tbody>\n",
       "</table>\n",
       "</div>"
      ],
      "text/plain": [
       "   Loan_id  Amount_Requested  Amount_Funded_By_Investors  Interest_Rate  \\\n",
       "0        1           20000.0                     20000.0           8.90   \n",
       "1        2           19200.0                     19200.0          12.12   \n",
       "2        3           35000.0                     35000.0          21.98   \n",
       "3        4           10000.0                      9975.0           9.99   \n",
       "4        5           12000.0                     12000.0          11.71   \n",
       "\n",
       "   Loan_Length  Debt_To_Income_Ratio  Monthly_Income  FICO_Range  \\\n",
       "0         36.0                 14.90         6541.67       735.0   \n",
       "1         36.0                 28.36         4583.33       715.0   \n",
       "2         60.0                 23.81        11500.00       690.0   \n",
       "3         36.0                 14.30         3833.33       695.0   \n",
       "4         36.0                 18.78         3195.00       695.0   \n",
       "\n",
       "   Open_CREDIT_Lines  Revolving_CREDIT_Balance  \\\n",
       "0               14.0                   14272.0   \n",
       "1               12.0                   11140.0   \n",
       "2               14.0                   21977.0   \n",
       "3               10.0                    9346.0   \n",
       "4               11.0                   14469.0   \n",
       "\n",
       "   Inquiries_in_the_Last_6_Months  Employment_Length  \n",
       "0                             2.0                1.0  \n",
       "1                             1.0                2.0  \n",
       "2                             1.0                2.0  \n",
       "3                             0.0                5.0  \n",
       "4                             0.0                9.0  "
      ]
     },
     "execution_count": 90,
     "metadata": {},
     "output_type": "execute_result"
    }
   ],
   "source": [
    "Num_Data.head()   "
   ]
  },
  {
   "cell_type": "markdown",
   "id": "b5a6dce1",
   "metadata": {},
   "source": [
    "**Observing a single column for the outliers**"
   ]
  },
  {
   "cell_type": "code",
   "execution_count": 92,
   "id": "19a8ba3b",
   "metadata": {},
   "outputs": [
    {
     "data": {
      "text/html": [
       "<div>\n",
       "<style scoped>\n",
       "    .dataframe tbody tr th:only-of-type {\n",
       "        vertical-align: middle;\n",
       "    }\n",
       "\n",
       "    .dataframe tbody tr th {\n",
       "        vertical-align: top;\n",
       "    }\n",
       "\n",
       "    .dataframe thead th {\n",
       "        text-align: right;\n",
       "    }\n",
       "</style>\n",
       "<table border=\"1\" class=\"dataframe\">\n",
       "  <thead>\n",
       "    <tr style=\"text-align: right;\">\n",
       "      <th></th>\n",
       "      <th>Loan_id</th>\n",
       "      <th>Amount_Requested</th>\n",
       "      <th>Amount_Funded_By_Investors</th>\n",
       "      <th>Interest_Rate</th>\n",
       "      <th>Loan_Length</th>\n",
       "      <th>Debt_To_Income_Ratio</th>\n",
       "      <th>Monthly_Income</th>\n",
       "      <th>FICO_Range</th>\n",
       "      <th>Open_CREDIT_Lines</th>\n",
       "      <th>Revolving_CREDIT_Balance</th>\n",
       "      <th>Inquiries_in_the_Last_6_Months</th>\n",
       "      <th>Employment_Length</th>\n",
       "    </tr>\n",
       "  </thead>\n",
       "  <tbody>\n",
       "    <tr>\n",
       "      <th>count</th>\n",
       "      <td>2499.000000</td>\n",
       "      <td>2499.000000</td>\n",
       "      <td>2499.00000</td>\n",
       "      <td>2499.000000</td>\n",
       "      <td>2499.000000</td>\n",
       "      <td>2499.000000</td>\n",
       "      <td>2499.000000</td>\n",
       "      <td>2499.000000</td>\n",
       "      <td>2499.000000</td>\n",
       "      <td>2499.000000</td>\n",
       "      <td>2499.000000</td>\n",
       "      <td>2499.00000</td>\n",
       "    </tr>\n",
       "    <tr>\n",
       "      <th>mean</th>\n",
       "      <td>1250.002801</td>\n",
       "      <td>12406.902761</td>\n",
       "      <td>12003.83477</td>\n",
       "      <td>13.066619</td>\n",
       "      <td>41.262905</td>\n",
       "      <td>15.380420</td>\n",
       "      <td>5688.864626</td>\n",
       "      <td>705.898359</td>\n",
       "      <td>10.073629</td>\n",
       "      <td>15221.817127</td>\n",
       "      <td>0.905162</td>\n",
       "      <td>5.47499</td>\n",
       "    </tr>\n",
       "    <tr>\n",
       "      <th>std</th>\n",
       "      <td>721.548325</td>\n",
       "      <td>7802.156772</td>\n",
       "      <td>7746.04527</td>\n",
       "      <td>4.175938</td>\n",
       "      <td>9.932322</td>\n",
       "      <td>7.505052</td>\n",
       "      <td>3963.128380</td>\n",
       "      <td>35.035486</td>\n",
       "      <td>4.504621</td>\n",
       "      <td>18273.326539</td>\n",
       "      <td>1.230862</td>\n",
       "      <td>3.38905</td>\n",
       "    </tr>\n",
       "    <tr>\n",
       "      <th>min</th>\n",
       "      <td>1.000000</td>\n",
       "      <td>1000.000000</td>\n",
       "      <td>-0.01000</td>\n",
       "      <td>5.420000</td>\n",
       "      <td>36.000000</td>\n",
       "      <td>0.000000</td>\n",
       "      <td>588.500000</td>\n",
       "      <td>640.000000</td>\n",
       "      <td>2.000000</td>\n",
       "      <td>0.000000</td>\n",
       "      <td>0.000000</td>\n",
       "      <td>1.00000</td>\n",
       "    </tr>\n",
       "    <tr>\n",
       "      <th>25%</th>\n",
       "      <td>625.500000</td>\n",
       "      <td>6000.000000</td>\n",
       "      <td>6000.00000</td>\n",
       "      <td>10.160000</td>\n",
       "      <td>36.000000</td>\n",
       "      <td>9.750000</td>\n",
       "      <td>3500.000000</td>\n",
       "      <td>680.000000</td>\n",
       "      <td>7.000000</td>\n",
       "      <td>5587.500000</td>\n",
       "      <td>0.000000</td>\n",
       "      <td>2.00000</td>\n",
       "    </tr>\n",
       "    <tr>\n",
       "      <th>50%</th>\n",
       "      <td>1250.000000</td>\n",
       "      <td>10000.000000</td>\n",
       "      <td>10000.00000</td>\n",
       "      <td>13.110000</td>\n",
       "      <td>36.000000</td>\n",
       "      <td>15.320000</td>\n",
       "      <td>5000.000000</td>\n",
       "      <td>700.000000</td>\n",
       "      <td>9.000000</td>\n",
       "      <td>10948.000000</td>\n",
       "      <td>0.000000</td>\n",
       "      <td>5.00000</td>\n",
       "    </tr>\n",
       "    <tr>\n",
       "      <th>75%</th>\n",
       "      <td>1874.500000</td>\n",
       "      <td>17000.000000</td>\n",
       "      <td>16000.00000</td>\n",
       "      <td>15.800000</td>\n",
       "      <td>36.000000</td>\n",
       "      <td>20.675000</td>\n",
       "      <td>6800.000000</td>\n",
       "      <td>725.000000</td>\n",
       "      <td>13.000000</td>\n",
       "      <td>18849.500000</td>\n",
       "      <td>1.000000</td>\n",
       "      <td>10.00000</td>\n",
       "    </tr>\n",
       "    <tr>\n",
       "      <th>max</th>\n",
       "      <td>2500.000000</td>\n",
       "      <td>35000.000000</td>\n",
       "      <td>35000.00000</td>\n",
       "      <td>24.890000</td>\n",
       "      <td>60.000000</td>\n",
       "      <td>34.910000</td>\n",
       "      <td>102750.000000</td>\n",
       "      <td>830.000000</td>\n",
       "      <td>38.000000</td>\n",
       "      <td>270800.000000</td>\n",
       "      <td>9.000000</td>\n",
       "      <td>10.00000</td>\n",
       "    </tr>\n",
       "  </tbody>\n",
       "</table>\n",
       "</div>"
      ],
      "text/plain": [
       "           Loan_id  Amount_Requested  Amount_Funded_By_Investors  \\\n",
       "count  2499.000000       2499.000000                  2499.00000   \n",
       "mean   1250.002801      12406.902761                 12003.83477   \n",
       "std     721.548325       7802.156772                  7746.04527   \n",
       "min       1.000000       1000.000000                    -0.01000   \n",
       "25%     625.500000       6000.000000                  6000.00000   \n",
       "50%    1250.000000      10000.000000                 10000.00000   \n",
       "75%    1874.500000      17000.000000                 16000.00000   \n",
       "max    2500.000000      35000.000000                 35000.00000   \n",
       "\n",
       "       Interest_Rate  Loan_Length  Debt_To_Income_Ratio  Monthly_Income  \\\n",
       "count    2499.000000  2499.000000           2499.000000     2499.000000   \n",
       "mean       13.066619    41.262905             15.380420     5688.864626   \n",
       "std         4.175938     9.932322              7.505052     3963.128380   \n",
       "min         5.420000    36.000000              0.000000      588.500000   \n",
       "25%        10.160000    36.000000              9.750000     3500.000000   \n",
       "50%        13.110000    36.000000             15.320000     5000.000000   \n",
       "75%        15.800000    36.000000             20.675000     6800.000000   \n",
       "max        24.890000    60.000000             34.910000   102750.000000   \n",
       "\n",
       "        FICO_Range  Open_CREDIT_Lines  Revolving_CREDIT_Balance  \\\n",
       "count  2499.000000        2499.000000               2499.000000   \n",
       "mean    705.898359          10.073629              15221.817127   \n",
       "std      35.035486           4.504621              18273.326539   \n",
       "min     640.000000           2.000000                  0.000000   \n",
       "25%     680.000000           7.000000               5587.500000   \n",
       "50%     700.000000           9.000000              10948.000000   \n",
       "75%     725.000000          13.000000              18849.500000   \n",
       "max     830.000000          38.000000             270800.000000   \n",
       "\n",
       "       Inquiries_in_the_Last_6_Months  Employment_Length  \n",
       "count                     2499.000000         2499.00000  \n",
       "mean                         0.905162            5.47499  \n",
       "std                          1.230862            3.38905  \n",
       "min                          0.000000            1.00000  \n",
       "25%                          0.000000            2.00000  \n",
       "50%                          0.000000            5.00000  \n",
       "75%                          1.000000           10.00000  \n",
       "max                          9.000000           10.00000  "
      ]
     },
     "execution_count": 92,
     "metadata": {},
     "output_type": "execute_result"
    }
   ],
   "source": [
    "Num_Data.describe()"
   ]
  },
  {
   "cell_type": "code",
   "execution_count": 93,
   "id": "7f249177",
   "metadata": {},
   "outputs": [
    {
     "data": {
      "text/plain": [
       "1000.0"
      ]
     },
     "execution_count": 93,
     "metadata": {},
     "output_type": "execute_result"
    }
   ],
   "source": [
    "min_Amt = Num_Data.Amount_Requested.min()\n",
    "min_Amt"
   ]
  },
  {
   "cell_type": "code",
   "execution_count": 94,
   "id": "2afa95f8",
   "metadata": {},
   "outputs": [
    {
     "data": {
      "text/plain": [
       "35000.0"
      ]
     },
     "execution_count": 94,
     "metadata": {},
     "output_type": "execute_result"
    }
   ],
   "source": [
    "max_Amt = Num_Data.Amount_Requested.max()\n",
    "max_Amt"
   ]
  },
  {
   "cell_type": "markdown",
   "id": "2edba888",
   "metadata": {},
   "source": [
    "**Quantile() helps to find the percentile vaues at each percentile mark**"
   ]
  },
  {
   "cell_type": "code",
   "execution_count": 95,
   "id": "a1c72736",
   "metadata": {},
   "outputs": [
    {
     "data": {
      "text/plain": [
       "10000.0"
      ]
     },
     "execution_count": 95,
     "metadata": {},
     "output_type": "execute_result"
    }
   ],
   "source": [
    "median = Num_Data.Amount_Requested.quantile(0.5)\n",
    "median"
   ]
  },
  {
   "cell_type": "code",
   "execution_count": 96,
   "id": "ca8bba55",
   "metadata": {},
   "outputs": [],
   "source": [
    "f_q = Num_Data.Amount_Requested.quantile(0.25)\n",
    "t_q = Num_Data.Amount_Requested.quantile(0.75)\n",
    "p_1 = Num_Data.Amount_Requested.quantile(0.01)\n",
    "p_99 = Num_Data.Amount_Requested.quantile(0.99)"
   ]
  },
  {
   "cell_type": "code",
   "execution_count": 97,
   "id": "f0da13b3",
   "metadata": {},
   "outputs": [
    {
     "name": "stdout",
     "output_type": "stream",
     "text": [
      "First quartile: 6000.0\n",
      "Third quartile: 17000.0\n",
      "Bottom 1%ile cutoff: 1500.0\n",
      "Top 1%ile cutoff: 35000.0\n"
     ]
    }
   ],
   "source": [
    "print(\"First quartile:\",f_q)\n",
    "print(\"Third quartile:\",t_q)\n",
    "print(\"Bottom 1%ile cutoff:\",p_1)\n",
    "print(\"Top 1%ile cutoff:\",p_99)"
   ]
  },
  {
   "cell_type": "code",
   "execution_count": 98,
   "id": "71f78222",
   "metadata": {},
   "outputs": [
    {
     "data": {
      "text/plain": [
       "11000"
      ]
     },
     "execution_count": 98,
     "metadata": {},
     "output_type": "execute_result"
    }
   ],
   "source": [
    "#iqr = q3 - q1\n",
    "iqr = 17000 - 6000\n",
    "iqr"
   ]
  },
  {
   "cell_type": "code",
   "execution_count": 99,
   "id": "1298bb3d",
   "metadata": {},
   "outputs": [],
   "source": [
    "#lc = q1 - 1.5*iqr\n",
    "#uc = q3 + 1.5*iqr"
   ]
  },
  {
   "cell_type": "code",
   "execution_count": 100,
   "id": "3031dfc0",
   "metadata": {},
   "outputs": [
    {
     "data": {
      "text/plain": [
       "-10500.0"
      ]
     },
     "execution_count": 100,
     "metadata": {},
     "output_type": "execute_result"
    }
   ],
   "source": [
    "lc = 6000 - (1.5*iqr)\n",
    "lc"
   ]
  },
  {
   "cell_type": "code",
   "execution_count": 101,
   "id": "a4752ec1",
   "metadata": {},
   "outputs": [
    {
     "data": {
      "text/plain": [
       "33500.0"
      ]
     },
     "execution_count": 101,
     "metadata": {},
     "output_type": "execute_result"
    }
   ],
   "source": [
    "uc = 17000 + (1.5*iqr)\n",
    "uc"
   ]
  },
  {
   "cell_type": "code",
   "execution_count": 102,
   "id": "5d67c0a0",
   "metadata": {},
   "outputs": [
    {
     "data": {
      "text/plain": [
       "<Axes: >"
      ]
     },
     "execution_count": 102,
     "metadata": {},
     "output_type": "execute_result"
    },
    {
     "data": {
      "image/png": "[encoded data removed]",
      "text/plain": [
       "<Figure size 640x480 with 1 Axes>"
      ]
     },
     "metadata": {},
     "output_type": "display_data"
    }
   ],
   "source": [
    "sns.boxplot(Num_Data.Amount_Requested)"
   ]
  },
  {
   "cell_type": "code",
   "execution_count": 103,
   "id": "4da71fd3",
   "metadata": {},
   "outputs": [
    {
     "data": {
      "text/html": [
       "<div>\n",
       "<style scoped>\n",
       "    .dataframe tbody tr th:only-of-type {\n",
       "        vertical-align: middle;\n",
       "    }\n",
       "\n",
       "    .dataframe tbody tr th {\n",
       "        vertical-align: top;\n",
       "    }\n",
       "\n",
       "    .dataframe thead th {\n",
       "        text-align: right;\n",
       "    }\n",
       "</style>\n",
       "<table border=\"1\" class=\"dataframe\">\n",
       "  <thead>\n",
       "    <tr style=\"text-align: right;\">\n",
       "      <th></th>\n",
       "      <th>Loan_id</th>\n",
       "      <th>Amount_Requested</th>\n",
       "      <th>Amount_Funded_By_Investors</th>\n",
       "      <th>Interest_Rate</th>\n",
       "      <th>Loan_Length</th>\n",
       "      <th>Debt_To_Income_Ratio</th>\n",
       "      <th>Monthly_Income</th>\n",
       "      <th>FICO_Range</th>\n",
       "      <th>Open_CREDIT_Lines</th>\n",
       "      <th>Revolving_CREDIT_Balance</th>\n",
       "      <th>Inquiries_in_the_Last_6_Months</th>\n",
       "      <th>Employment_Length</th>\n",
       "    </tr>\n",
       "  </thead>\n",
       "  <tbody>\n",
       "    <tr>\n",
       "      <th>0</th>\n",
       "      <td>1</td>\n",
       "      <td>20000.0</td>\n",
       "      <td>20000.0</td>\n",
       "      <td>8.90</td>\n",
       "      <td>36.0</td>\n",
       "      <td>14.90</td>\n",
       "      <td>6541.67</td>\n",
       "      <td>735.0</td>\n",
       "      <td>14.0</td>\n",
       "      <td>14272.0</td>\n",
       "      <td>2.0</td>\n",
       "      <td>1.0</td>\n",
       "    </tr>\n",
       "    <tr>\n",
       "      <th>1</th>\n",
       "      <td>2</td>\n",
       "      <td>19200.0</td>\n",
       "      <td>19200.0</td>\n",
       "      <td>12.12</td>\n",
       "      <td>36.0</td>\n",
       "      <td>28.36</td>\n",
       "      <td>4583.33</td>\n",
       "      <td>715.0</td>\n",
       "      <td>12.0</td>\n",
       "      <td>11140.0</td>\n",
       "      <td>1.0</td>\n",
       "      <td>2.0</td>\n",
       "    </tr>\n",
       "    <tr>\n",
       "      <th>2</th>\n",
       "      <td>3</td>\n",
       "      <td>35000.0</td>\n",
       "      <td>35000.0</td>\n",
       "      <td>21.98</td>\n",
       "      <td>60.0</td>\n",
       "      <td>23.81</td>\n",
       "      <td>11500.00</td>\n",
       "      <td>690.0</td>\n",
       "      <td>14.0</td>\n",
       "      <td>21977.0</td>\n",
       "      <td>1.0</td>\n",
       "      <td>2.0</td>\n",
       "    </tr>\n",
       "    <tr>\n",
       "      <th>3</th>\n",
       "      <td>4</td>\n",
       "      <td>10000.0</td>\n",
       "      <td>9975.0</td>\n",
       "      <td>9.99</td>\n",
       "      <td>36.0</td>\n",
       "      <td>14.30</td>\n",
       "      <td>3833.33</td>\n",
       "      <td>695.0</td>\n",
       "      <td>10.0</td>\n",
       "      <td>9346.0</td>\n",
       "      <td>0.0</td>\n",
       "      <td>5.0</td>\n",
       "    </tr>\n",
       "    <tr>\n",
       "      <th>4</th>\n",
       "      <td>5</td>\n",
       "      <td>12000.0</td>\n",
       "      <td>12000.0</td>\n",
       "      <td>11.71</td>\n",
       "      <td>36.0</td>\n",
       "      <td>18.78</td>\n",
       "      <td>3195.00</td>\n",
       "      <td>695.0</td>\n",
       "      <td>11.0</td>\n",
       "      <td>14469.0</td>\n",
       "      <td>0.0</td>\n",
       "      <td>9.0</td>\n",
       "    </tr>\n",
       "  </tbody>\n",
       "</table>\n",
       "</div>"
      ],
      "text/plain": [
       "   Loan_id  Amount_Requested  Amount_Funded_By_Investors  Interest_Rate  \\\n",
       "0        1           20000.0                     20000.0           8.90   \n",
       "1        2           19200.0                     19200.0          12.12   \n",
       "2        3           35000.0                     35000.0          21.98   \n",
       "3        4           10000.0                      9975.0           9.99   \n",
       "4        5           12000.0                     12000.0          11.71   \n",
       "\n",
       "   Loan_Length  Debt_To_Income_Ratio  Monthly_Income  FICO_Range  \\\n",
       "0         36.0                 14.90         6541.67       735.0   \n",
       "1         36.0                 28.36         4583.33       715.0   \n",
       "2         60.0                 23.81        11500.00       690.0   \n",
       "3         36.0                 14.30         3833.33       695.0   \n",
       "4         36.0                 18.78         3195.00       695.0   \n",
       "\n",
       "   Open_CREDIT_Lines  Revolving_CREDIT_Balance  \\\n",
       "0               14.0                   14272.0   \n",
       "1               12.0                   11140.0   \n",
       "2               14.0                   21977.0   \n",
       "3               10.0                    9346.0   \n",
       "4               11.0                   14469.0   \n",
       "\n",
       "   Inquiries_in_the_Last_6_Months  Employment_Length  \n",
       "0                             2.0                1.0  \n",
       "1                             1.0                2.0  \n",
       "2                             1.0                2.0  \n",
       "3                             0.0                5.0  \n",
       "4                             0.0                9.0  "
      ]
     },
     "execution_count": 103,
     "metadata": {},
     "output_type": "execute_result"
    }
   ],
   "source": [
    "Num_Data.head()"
   ]
  },
  {
   "cell_type": "code",
   "execution_count": 104,
   "id": "0907ba9b",
   "metadata": {},
   "outputs": [
    {
     "data": {
      "text/plain": [
       "2"
      ]
     },
     "execution_count": 104,
     "metadata": {},
     "output_type": "execute_result"
    }
   ],
   "source": [
    "Num_Data.Loan_Length.nunique()"
   ]
  },
  {
   "cell_type": "code",
   "execution_count": 105,
   "id": "25c7d8f1",
   "metadata": {},
   "outputs": [
    {
     "data": {
      "text/plain": [
       "Loan_Length\n",
       "36.0    1951\n",
       "60.0     548\n",
       "Name: count, dtype: int64"
      ]
     },
     "execution_count": 105,
     "metadata": {},
     "output_type": "execute_result"
    }
   ],
   "source": [
    "Num_Data.Loan_Length.value_counts()"
   ]
  },
  {
   "cell_type": "code",
   "execution_count": 106,
   "id": "1bd78ee7",
   "metadata": {},
   "outputs": [
    {
     "data": {
      "text/plain": [
       "Index(['Loan_id', 'Amount_Requested', 'Amount_Funded_By_Investors',\n",
       "       'Interest_Rate', 'Loan_Length', 'Debt_To_Income_Ratio',\n",
       "       'Monthly_Income', 'FICO_Range', 'Open_CREDIT_Lines',\n",
       "       'Revolving_CREDIT_Balance', 'Inquiries_in_the_Last_6_Months',\n",
       "       'Employment_Length'],\n",
       "      dtype='object')"
      ]
     },
     "execution_count": 106,
     "metadata": {},
     "output_type": "execute_result"
    }
   ],
   "source": [
    "Num_Data.columns"
   ]
  },
  {
   "cell_type": "code",
   "execution_count": 107,
   "id": "d68ea381",
   "metadata": {},
   "outputs": [
    {
     "data": {
      "text/plain": [
       "Inquiries_in_the_Last_6_Months\n",
       "0.0    1252\n",
       "1.0     657\n",
       "2.0     335\n",
       "3.0     169\n",
       "4.0      50\n",
       "5.0      14\n",
       "6.0       8\n",
       "7.0       7\n",
       "9.0       5\n",
       "8.0       2\n",
       "Name: count, dtype: int64"
      ]
     },
     "execution_count": 107,
     "metadata": {},
     "output_type": "execute_result"
    }
   ],
   "source": [
    "Num_Data.Inquiries_in_the_Last_6_Months.value_counts()"
   ]
  },
  {
   "cell_type": "code",
   "execution_count": 109,
   "id": "c8382404",
   "metadata": {},
   "outputs": [
    {
     "data": {
      "image/png": "[encoded data removed]",
      "text/plain": [
       "<Figure size 640x480 with 1 Axes>"
      ]
     },
     "metadata": {},
     "output_type": "display_data"
    },
    {
     "data": {
      "image/png": "[encoded data removed]",
      "text/plain": [
       "<Figure size 640x480 with 1 Axes>"
      ]
     },
     "metadata": {},
     "output_type": "display_data"
    },
    {
     "data": {
      "image/png": "[encoded data removed]",
      "text/plain": [
       "<Figure size 640x480 with 1 Axes>"
      ]
     },
     "metadata": {},
     "output_type": "display_data"
    },
    {
     "data": {
      "image/png": "[encoded data removed]",
      "text/plain": [
       "<Figure size 640x480 with 1 Axes>"
      ]
     },
     "metadata": {},
     "output_type": "display_data"
    },
    {
     "data": {
      "image/png": "[encoded data removed]",
      "text/plain": [
       "<Figure size 640x480 with 1 Axes>"
      ]
     },
     "metadata": {},
     "output_type": "display_data"
    },
    {
     "data": {
      "image/png": "[encoded data removed]",
      "text/plain": [
       "<Figure size 640x480 with 1 Axes>"
      ]
     },
     "metadata": {},
     "output_type": "display_data"
    },
    {
     "data": {
      "image/png": "[encoded data removed]",
      "text/plain": [
       "<Figure size 640x480 with 1 Axes>"
      ]
     },
     "metadata": {},
     "output_type": "display_data"
    },
    {
     "data": {
      "image/png": "[encoded data removed]",
      "text/plain": [
       "<Figure size 640x480 with 1 Axes>"
      ]
     },
     "metadata": {},
     "output_type": "display_data"
    },
    {
     "data": {
      "image/png": "[encoded data removed]",
      "text/plain": [
       "<Figure size 640x480 with 1 Axes>"
      ]
     },
     "metadata": {},
     "output_type": "display_data"
    },
    {
     "data": {
      "image/png": "[encoded data removed]",
      "text/plain": [
       "<Figure size 640x480 with 1 Axes>"
      ]
     },
     "metadata": {},
     "output_type": "display_data"
    },
    {
     "data": {
      "image/png": "[encoded data removed]",
      "text/plain": [
       "<Figure size 640x480 with 1 Axes>"
      ]
     },
     "metadata": {},
     "output_type": "display_data"
    },
    {
     "data": {
      "image/png": "[encoded data removed]",
      "text/plain": [
       "<Figure size 640x480 with 1 Axes>"
      ]
     },
     "metadata": {},
     "output_type": "display_data"
    }
   ],
   "source": [
    "for col in Num_Data:\n",
    "    sns.boxplot(Num_Data[col])\n",
    "    plt.show()"
   ]
  },
  {
   "cell_type": "code",
   "execution_count": 110,
   "id": "74b50d5b",
   "metadata": {},
   "outputs": [
    {
     "data": {
      "text/html": [
       "<div>\n",
       "<style scoped>\n",
       "    .dataframe tbody tr th:only-of-type {\n",
       "        vertical-align: middle;\n",
       "    }\n",
       "\n",
       "    .dataframe tbody tr th {\n",
       "        vertical-align: top;\n",
       "    }\n",
       "\n",
       "    .dataframe thead th {\n",
       "        text-align: right;\n",
       "    }\n",
       "</style>\n",
       "<table border=\"1\" class=\"dataframe\">\n",
       "  <thead>\n",
       "    <tr style=\"text-align: right;\">\n",
       "      <th></th>\n",
       "      <th>Loan_id</th>\n",
       "      <th>Amount_Requested</th>\n",
       "      <th>Amount_Funded_By_Investors</th>\n",
       "      <th>Interest_Rate</th>\n",
       "      <th>Loan_Length</th>\n",
       "      <th>Debt_To_Income_Ratio</th>\n",
       "      <th>Monthly_Income</th>\n",
       "      <th>FICO_Range</th>\n",
       "      <th>Open_CREDIT_Lines</th>\n",
       "      <th>Revolving_CREDIT_Balance</th>\n",
       "      <th>Inquiries_in_the_Last_6_Months</th>\n",
       "      <th>Employment_Length</th>\n",
       "    </tr>\n",
       "  </thead>\n",
       "  <tbody>\n",
       "    <tr>\n",
       "      <th>0</th>\n",
       "      <td>1</td>\n",
       "      <td>20000.0</td>\n",
       "      <td>20000.0</td>\n",
       "      <td>8.90</td>\n",
       "      <td>36.0</td>\n",
       "      <td>14.90</td>\n",
       "      <td>6541.67</td>\n",
       "      <td>735.0</td>\n",
       "      <td>14.0</td>\n",
       "      <td>14272.0</td>\n",
       "      <td>2.0</td>\n",
       "      <td>1.0</td>\n",
       "    </tr>\n",
       "    <tr>\n",
       "      <th>1</th>\n",
       "      <td>2</td>\n",
       "      <td>19200.0</td>\n",
       "      <td>19200.0</td>\n",
       "      <td>12.12</td>\n",
       "      <td>36.0</td>\n",
       "      <td>28.36</td>\n",
       "      <td>4583.33</td>\n",
       "      <td>715.0</td>\n",
       "      <td>12.0</td>\n",
       "      <td>11140.0</td>\n",
       "      <td>1.0</td>\n",
       "      <td>2.0</td>\n",
       "    </tr>\n",
       "    <tr>\n",
       "      <th>2</th>\n",
       "      <td>3</td>\n",
       "      <td>35000.0</td>\n",
       "      <td>35000.0</td>\n",
       "      <td>21.98</td>\n",
       "      <td>60.0</td>\n",
       "      <td>23.81</td>\n",
       "      <td>11500.00</td>\n",
       "      <td>690.0</td>\n",
       "      <td>14.0</td>\n",
       "      <td>21977.0</td>\n",
       "      <td>1.0</td>\n",
       "      <td>2.0</td>\n",
       "    </tr>\n",
       "    <tr>\n",
       "      <th>3</th>\n",
       "      <td>4</td>\n",
       "      <td>10000.0</td>\n",
       "      <td>9975.0</td>\n",
       "      <td>9.99</td>\n",
       "      <td>36.0</td>\n",
       "      <td>14.30</td>\n",
       "      <td>3833.33</td>\n",
       "      <td>695.0</td>\n",
       "      <td>10.0</td>\n",
       "      <td>9346.0</td>\n",
       "      <td>0.0</td>\n",
       "      <td>5.0</td>\n",
       "    </tr>\n",
       "    <tr>\n",
       "      <th>4</th>\n",
       "      <td>5</td>\n",
       "      <td>12000.0</td>\n",
       "      <td>12000.0</td>\n",
       "      <td>11.71</td>\n",
       "      <td>36.0</td>\n",
       "      <td>18.78</td>\n",
       "      <td>3195.00</td>\n",
       "      <td>695.0</td>\n",
       "      <td>11.0</td>\n",
       "      <td>14469.0</td>\n",
       "      <td>0.0</td>\n",
       "      <td>9.0</td>\n",
       "    </tr>\n",
       "  </tbody>\n",
       "</table>\n",
       "</div>"
      ],
      "text/plain": [
       "   Loan_id  Amount_Requested  Amount_Funded_By_Investors  Interest_Rate  \\\n",
       "0        1           20000.0                     20000.0           8.90   \n",
       "1        2           19200.0                     19200.0          12.12   \n",
       "2        3           35000.0                     35000.0          21.98   \n",
       "3        4           10000.0                      9975.0           9.99   \n",
       "4        5           12000.0                     12000.0          11.71   \n",
       "\n",
       "   Loan_Length  Debt_To_Income_Ratio  Monthly_Income  FICO_Range  \\\n",
       "0         36.0                 14.90         6541.67       735.0   \n",
       "1         36.0                 28.36         4583.33       715.0   \n",
       "2         60.0                 23.81        11500.00       690.0   \n",
       "3         36.0                 14.30         3833.33       695.0   \n",
       "4         36.0                 18.78         3195.00       695.0   \n",
       "\n",
       "   Open_CREDIT_Lines  Revolving_CREDIT_Balance  \\\n",
       "0               14.0                   14272.0   \n",
       "1               12.0                   11140.0   \n",
       "2               14.0                   21977.0   \n",
       "3               10.0                    9346.0   \n",
       "4               11.0                   14469.0   \n",
       "\n",
       "   Inquiries_in_the_Last_6_Months  Employment_Length  \n",
       "0                             2.0                1.0  \n",
       "1                             1.0                2.0  \n",
       "2                             1.0                2.0  \n",
       "3                             0.0                5.0  \n",
       "4                             0.0                9.0  "
      ]
     },
     "execution_count": 110,
     "metadata": {},
     "output_type": "execute_result"
    }
   ],
   "source": [
    "Num_Data.head() "
   ]
  },
  {
   "cell_type": "code",
   "execution_count": 111,
   "id": "dee5a947",
   "metadata": {},
   "outputs": [
    {
     "data": {
      "text/plain": [
       "-10500.0"
      ]
     },
     "execution_count": 111,
     "metadata": {},
     "output_type": "execute_result"
    }
   ],
   "source": [
    "lc"
   ]
  },
  {
   "cell_type": "code",
   "execution_count": 112,
   "id": "2fd11bc7",
   "metadata": {},
   "outputs": [
    {
     "data": {
      "text/plain": [
       "33500.0"
      ]
     },
     "execution_count": 112,
     "metadata": {},
     "output_type": "execute_result"
    }
   ],
   "source": [
    "uc"
   ]
  },
  {
   "cell_type": "code",
   "execution_count": 113,
   "id": "e68a53bd",
   "metadata": {},
   "outputs": [],
   "source": [
    "#Outliers have been clipped.\n",
    "Num_Data['Amount_Requested'] = Num_Data.Amount_Requested.clip(lower = lc, upper = uc)"
   ]
  },
  {
   "cell_type": "code",
   "execution_count": 114,
   "id": "3834245f",
   "metadata": {},
   "outputs": [
    {
     "data": {
      "text/plain": [
       "<Axes: >"
      ]
     },
     "execution_count": 114,
     "metadata": {},
     "output_type": "execute_result"
    },
    {
     "data": {
      "image/png": "[encoded data removed]",
      "text/plain": [
       "<Figure size 640x480 with 1 Axes>"
      ]
     },
     "metadata": {},
     "output_type": "display_data"
    }
   ],
   "source": [
    "sns.boxplot(Num_Data.Amount_Requested)"
   ]
  },
  {
   "cell_type": "code",
   "execution_count": 115,
   "id": "d66d2a00",
   "metadata": {},
   "outputs": [
    {
     "data": {
      "text/plain": [
       "<Axes: >"
      ]
     },
     "execution_count": 115,
     "metadata": {},
     "output_type": "execute_result"
    },
    {
     "data": {
      "image/png": "[encoded data removed]",
      "text/plain": [
       "<Figure size 640x480 with 1 Axes>"
      ]
     },
     "metadata": {},
     "output_type": "display_data"
    }
   ],
   "source": [
    "sns.boxplot(Num_Data.Amount_Requested)"
   ]
  },
  {
   "cell_type": "code",
   "execution_count": 116,
   "id": "3860a82a",
   "metadata": {},
   "outputs": [
    {
     "data": {
      "text/plain": [
       "Index(['Loan_id', 'Amount_Requested', 'Amount_Funded_By_Investors',\n",
       "       'Interest_Rate', 'Loan_Length', 'Debt_To_Income_Ratio',\n",
       "       'Monthly_Income', 'FICO_Range', 'Open_CREDIT_Lines',\n",
       "       'Revolving_CREDIT_Balance', 'Inquiries_in_the_Last_6_Months',\n",
       "       'Employment_Length'],\n",
       "      dtype='object')"
      ]
     },
     "execution_count": 116,
     "metadata": {},
     "output_type": "execute_result"
    }
   ],
   "source": [
    "Num_Data.columns"
   ]
  },
  {
   "cell_type": "code",
   "execution_count": 117,
   "id": "914e4ae7",
   "metadata": {},
   "outputs": [
    {
     "data": {
      "text/plain": [
       "<Axes: >"
      ]
     },
     "execution_count": 117,
     "metadata": {},
     "output_type": "execute_result"
    },
    {
     "data": {
      "image/png": "[encoded data removed]",
      "text/plain": [
       "<Figure size 640x480 with 1 Axes>"
      ]
     },
     "metadata": {},
     "output_type": "display_data"
    }
   ],
   "source": [
    "sns.boxplot(Num_Data.Amount_Funded_By_Investors)"
   ]
  },
  {
   "cell_type": "code",
   "execution_count": 118,
   "id": "47b7e9dd",
   "metadata": {},
   "outputs": [],
   "source": [
    "Num_Data['Amount_Requested'] = Num_Data.Amount_Funded_By_Investors.clip(lower = lc, upper = uc)"
   ]
  },
  {
   "cell_type": "markdown",
   "id": "e3f604d4",
   "metadata": {},
   "source": [
    "# Outlier treatment IQR Method"
   ]
  },
  {
   "cell_type": "code",
   "execution_count": 119,
   "id": "9cf45db5",
   "metadata": {},
   "outputs": [],
   "source": [
    "def outlier_IQR(s):\n",
    "    m = s.quantile(0.5)\n",
    "    q1 = s.quantile(0.25)\n",
    "    q3 = s.quantile(0.75)\n",
    "    q_1p = s.quantile(0.01)\n",
    "    q_99p = s.quantile(0.99)\n",
    "    iqr = q3 - q1\n",
    "    lc = q1 - 1.5*iqr\n",
    "    uc = q3 + 1.5*iqr\n",
    "    result = pd.Series([m,q1,q3,q_1p,q_99p,iqr,lc,uc])\n",
    "    result.index = ['median','first_quartile','third_quartile','pc_1','pc_99','iqr','lower_cutoff','upper_cutoff']\n",
    "    return result"
   ]
  },
  {
   "cell_type": "code",
   "execution_count": 120,
   "id": "dc4deb62",
   "metadata": {},
   "outputs": [],
   "source": [
    "def outliertreat_IQR(d):\n",
    "    m = d.quantile(0.5)\n",
    "    q1 = d.quantile(0.25)\n",
    "    q3 = d.quantile(0.75)\n",
    "    q_1p = d.quantile(0.01)\n",
    "    q_99p = d.quantile(0.99)\n",
    "    iqr = q3 - q1\n",
    "    lc = q1 - 1.5*iqr\n",
    "    uc = q3 + 1.5*iqr\n",
    "    return lc,uc"
   ]
  },
  {
   "cell_type": "code",
   "execution_count": 121,
   "id": "34e53687",
   "metadata": {},
   "outputs": [
    {
     "data": {
      "text/html": [
       "<div>\n",
       "<style scoped>\n",
       "    .dataframe tbody tr th:only-of-type {\n",
       "        vertical-align: middle;\n",
       "    }\n",
       "\n",
       "    .dataframe tbody tr th {\n",
       "        vertical-align: top;\n",
       "    }\n",
       "\n",
       "    .dataframe thead th {\n",
       "        text-align: right;\n",
       "    }\n",
       "</style>\n",
       "<table border=\"1\" class=\"dataframe\">\n",
       "  <thead>\n",
       "    <tr style=\"text-align: right;\">\n",
       "      <th></th>\n",
       "      <th>Loan_id</th>\n",
       "      <th>Amount_Requested</th>\n",
       "      <th>Amount_Funded_By_Investors</th>\n",
       "      <th>Interest_Rate</th>\n",
       "      <th>Loan_Length</th>\n",
       "      <th>Debt_To_Income_Ratio</th>\n",
       "      <th>Monthly_Income</th>\n",
       "      <th>FICO_Range</th>\n",
       "      <th>Open_CREDIT_Lines</th>\n",
       "      <th>Revolving_CREDIT_Balance</th>\n",
       "      <th>Inquiries_in_the_Last_6_Months</th>\n",
       "      <th>Employment_Length</th>\n",
       "    </tr>\n",
       "  </thead>\n",
       "  <tbody>\n",
       "    <tr>\n",
       "      <th>0</th>\n",
       "      <td>-1248.0</td>\n",
       "      <td>-9000.0</td>\n",
       "      <td>-9000.0</td>\n",
       "      <td>1.70</td>\n",
       "      <td>36.0</td>\n",
       "      <td>-6.6375</td>\n",
       "      <td>-1450.0</td>\n",
       "      <td>612.5</td>\n",
       "      <td>-2.0</td>\n",
       "      <td>-14305.5</td>\n",
       "      <td>-1.5</td>\n",
       "      <td>-10.0</td>\n",
       "    </tr>\n",
       "    <tr>\n",
       "      <th>1</th>\n",
       "      <td>3748.0</td>\n",
       "      <td>31000.0</td>\n",
       "      <td>31000.0</td>\n",
       "      <td>24.26</td>\n",
       "      <td>36.0</td>\n",
       "      <td>37.0625</td>\n",
       "      <td>11750.0</td>\n",
       "      <td>792.5</td>\n",
       "      <td>22.0</td>\n",
       "      <td>38742.5</td>\n",
       "      <td>2.5</td>\n",
       "      <td>22.0</td>\n",
       "    </tr>\n",
       "  </tbody>\n",
       "</table>\n",
       "</div>"
      ],
      "text/plain": [
       "   Loan_id  Amount_Requested  Amount_Funded_By_Investors  Interest_Rate  \\\n",
       "0  -1248.0           -9000.0                     -9000.0           1.70   \n",
       "1   3748.0           31000.0                     31000.0          24.26   \n",
       "\n",
       "   Loan_Length  Debt_To_Income_Ratio  Monthly_Income  FICO_Range  \\\n",
       "0         36.0               -6.6375         -1450.0       612.5   \n",
       "1         36.0               37.0625         11750.0       792.5   \n",
       "\n",
       "   Open_CREDIT_Lines  Revolving_CREDIT_Balance  \\\n",
       "0               -2.0                  -14305.5   \n",
       "1               22.0                   38742.5   \n",
       "\n",
       "   Inquiries_in_the_Last_6_Months  Employment_Length  \n",
       "0                            -1.5              -10.0  \n",
       "1                             2.5               22.0  "
      ]
     },
     "execution_count": 121,
     "metadata": {},
     "output_type": "execute_result"
    }
   ],
   "source": [
    "Num_Data.apply(outliertreat_IQR)"
   ]
  },
  {
   "cell_type": "code",
   "execution_count": 122,
   "id": "45f74443",
   "metadata": {},
   "outputs": [
    {
     "data": {
      "text/html": [
       "<div>\n",
       "<style scoped>\n",
       "    .dataframe tbody tr th:only-of-type {\n",
       "        vertical-align: middle;\n",
       "    }\n",
       "\n",
       "    .dataframe tbody tr th {\n",
       "        vertical-align: top;\n",
       "    }\n",
       "\n",
       "    .dataframe thead th {\n",
       "        text-align: right;\n",
       "    }\n",
       "</style>\n",
       "<table border=\"1\" class=\"dataframe\">\n",
       "  <thead>\n",
       "    <tr style=\"text-align: right;\">\n",
       "      <th></th>\n",
       "      <th>Loan_id</th>\n",
       "      <th>Amount_Requested</th>\n",
       "      <th>Amount_Funded_By_Investors</th>\n",
       "      <th>Interest_Rate</th>\n",
       "      <th>Loan_Length</th>\n",
       "      <th>Debt_To_Income_Ratio</th>\n",
       "      <th>Monthly_Income</th>\n",
       "      <th>FICO_Range</th>\n",
       "      <th>Open_CREDIT_Lines</th>\n",
       "      <th>Revolving_CREDIT_Balance</th>\n",
       "      <th>Inquiries_in_the_Last_6_Months</th>\n",
       "      <th>Employment_Length</th>\n",
       "    </tr>\n",
       "  </thead>\n",
       "  <tbody>\n",
       "    <tr>\n",
       "      <th>median</th>\n",
       "      <td>1250.00</td>\n",
       "      <td>10000.0000</td>\n",
       "      <td>10000.0000</td>\n",
       "      <td>13.1100</td>\n",
       "      <td>36.0</td>\n",
       "      <td>15.3200</td>\n",
       "      <td>5000.0000</td>\n",
       "      <td>700.0</td>\n",
       "      <td>9.0</td>\n",
       "      <td>10948.00</td>\n",
       "      <td>0.0</td>\n",
       "      <td>5.0</td>\n",
       "    </tr>\n",
       "    <tr>\n",
       "      <th>first_quartile</th>\n",
       "      <td>625.50</td>\n",
       "      <td>6000.0000</td>\n",
       "      <td>6000.0000</td>\n",
       "      <td>10.1600</td>\n",
       "      <td>36.0</td>\n",
       "      <td>9.7500</td>\n",
       "      <td>3500.0000</td>\n",
       "      <td>680.0</td>\n",
       "      <td>7.0</td>\n",
       "      <td>5587.50</td>\n",
       "      <td>0.0</td>\n",
       "      <td>2.0</td>\n",
       "    </tr>\n",
       "    <tr>\n",
       "      <th>third_quartile</th>\n",
       "      <td>1874.50</td>\n",
       "      <td>16000.0000</td>\n",
       "      <td>16000.0000</td>\n",
       "      <td>15.8000</td>\n",
       "      <td>36.0</td>\n",
       "      <td>20.6750</td>\n",
       "      <td>6800.0000</td>\n",
       "      <td>725.0</td>\n",
       "      <td>13.0</td>\n",
       "      <td>18849.50</td>\n",
       "      <td>1.0</td>\n",
       "      <td>10.0</td>\n",
       "    </tr>\n",
       "    <tr>\n",
       "      <th>pc_1</th>\n",
       "      <td>25.98</td>\n",
       "      <td>998.3456</td>\n",
       "      <td>998.3456</td>\n",
       "      <td>5.9860</td>\n",
       "      <td>36.0</td>\n",
       "      <td>0.7180</td>\n",
       "      <td>1416.4032</td>\n",
       "      <td>660.0</td>\n",
       "      <td>3.0</td>\n",
       "      <td>0.00</td>\n",
       "      <td>0.0</td>\n",
       "      <td>1.0</td>\n",
       "    </tr>\n",
       "    <tr>\n",
       "      <th>pc_99</th>\n",
       "      <td>2474.02</td>\n",
       "      <td>33500.0000</td>\n",
       "      <td>35000.0000</td>\n",
       "      <td>22.9566</td>\n",
       "      <td>60.0</td>\n",
       "      <td>33.2300</td>\n",
       "      <td>18750.0000</td>\n",
       "      <td>805.0</td>\n",
       "      <td>23.0</td>\n",
       "      <td>92416.32</td>\n",
       "      <td>5.0</td>\n",
       "      <td>10.0</td>\n",
       "    </tr>\n",
       "    <tr>\n",
       "      <th>iqr</th>\n",
       "      <td>1249.00</td>\n",
       "      <td>10000.0000</td>\n",
       "      <td>10000.0000</td>\n",
       "      <td>5.6400</td>\n",
       "      <td>0.0</td>\n",
       "      <td>10.9250</td>\n",
       "      <td>3300.0000</td>\n",
       "      <td>45.0</td>\n",
       "      <td>6.0</td>\n",
       "      <td>13262.00</td>\n",
       "      <td>1.0</td>\n",
       "      <td>8.0</td>\n",
       "    </tr>\n",
       "    <tr>\n",
       "      <th>lower_cutoff</th>\n",
       "      <td>-1248.00</td>\n",
       "      <td>-9000.0000</td>\n",
       "      <td>-9000.0000</td>\n",
       "      <td>1.7000</td>\n",
       "      <td>36.0</td>\n",
       "      <td>-6.6375</td>\n",
       "      <td>-1450.0000</td>\n",
       "      <td>612.5</td>\n",
       "      <td>-2.0</td>\n",
       "      <td>-14305.50</td>\n",
       "      <td>-1.5</td>\n",
       "      <td>-10.0</td>\n",
       "    </tr>\n",
       "    <tr>\n",
       "      <th>upper_cutoff</th>\n",
       "      <td>3748.00</td>\n",
       "      <td>31000.0000</td>\n",
       "      <td>31000.0000</td>\n",
       "      <td>24.2600</td>\n",
       "      <td>36.0</td>\n",
       "      <td>37.0625</td>\n",
       "      <td>11750.0000</td>\n",
       "      <td>792.5</td>\n",
       "      <td>22.0</td>\n",
       "      <td>38742.50</td>\n",
       "      <td>2.5</td>\n",
       "      <td>22.0</td>\n",
       "    </tr>\n",
       "  </tbody>\n",
       "</table>\n",
       "</div>"
      ],
      "text/plain": [
       "                Loan_id  Amount_Requested  Amount_Funded_By_Investors  \\\n",
       "median          1250.00        10000.0000                  10000.0000   \n",
       "first_quartile   625.50         6000.0000                   6000.0000   \n",
       "third_quartile  1874.50        16000.0000                  16000.0000   \n",
       "pc_1              25.98          998.3456                    998.3456   \n",
       "pc_99           2474.02        33500.0000                  35000.0000   \n",
       "iqr             1249.00        10000.0000                  10000.0000   \n",
       "lower_cutoff   -1248.00        -9000.0000                  -9000.0000   \n",
       "upper_cutoff    3748.00        31000.0000                  31000.0000   \n",
       "\n",
       "                Interest_Rate  Loan_Length  Debt_To_Income_Ratio  \\\n",
       "median                13.1100         36.0               15.3200   \n",
       "first_quartile        10.1600         36.0                9.7500   \n",
       "third_quartile        15.8000         36.0               20.6750   \n",
       "pc_1                   5.9860         36.0                0.7180   \n",
       "pc_99                 22.9566         60.0               33.2300   \n",
       "iqr                    5.6400          0.0               10.9250   \n",
       "lower_cutoff           1.7000         36.0               -6.6375   \n",
       "upper_cutoff          24.2600         36.0               37.0625   \n",
       "\n",
       "                Monthly_Income  FICO_Range  Open_CREDIT_Lines  \\\n",
       "median               5000.0000       700.0                9.0   \n",
       "first_quartile       3500.0000       680.0                7.0   \n",
       "third_quartile       6800.0000       725.0               13.0   \n",
       "pc_1                 1416.4032       660.0                3.0   \n",
       "pc_99               18750.0000       805.0               23.0   \n",
       "iqr                  3300.0000        45.0                6.0   \n",
       "lower_cutoff        -1450.0000       612.5               -2.0   \n",
       "upper_cutoff        11750.0000       792.5               22.0   \n",
       "\n",
       "                Revolving_CREDIT_Balance  Inquiries_in_the_Last_6_Months  \\\n",
       "median                          10948.00                             0.0   \n",
       "first_quartile                   5587.50                             0.0   \n",
       "third_quartile                  18849.50                             1.0   \n",
       "pc_1                                0.00                             0.0   \n",
       "pc_99                           92416.32                             5.0   \n",
       "iqr                             13262.00                             1.0   \n",
       "lower_cutoff                   -14305.50                            -1.5   \n",
       "upper_cutoff                    38742.50                             2.5   \n",
       "\n",
       "                Employment_Length  \n",
       "median                        5.0  \n",
       "first_quartile                2.0  \n",
       "third_quartile               10.0  \n",
       "pc_1                          1.0  \n",
       "pc_99                        10.0  \n",
       "iqr                           8.0  \n",
       "lower_cutoff                -10.0  \n",
       "upper_cutoff                 22.0  "
      ]
     },
     "execution_count": 122,
     "metadata": {},
     "output_type": "execute_result"
    }
   ],
   "source": [
    "Num_Data.apply(outlier_IQR)"
   ]
  },
  {
   "cell_type": "code",
   "execution_count": 123,
   "id": "aeb75f25",
   "metadata": {},
   "outputs": [
    {
     "data": {
      "text/html": [
       "<div>\n",
       "<style scoped>\n",
       "    .dataframe tbody tr th:only-of-type {\n",
       "        vertical-align: middle;\n",
       "    }\n",
       "\n",
       "    .dataframe tbody tr th {\n",
       "        vertical-align: top;\n",
       "    }\n",
       "\n",
       "    .dataframe thead th {\n",
       "        text-align: right;\n",
       "    }\n",
       "</style>\n",
       "<table border=\"1\" class=\"dataframe\">\n",
       "  <thead>\n",
       "    <tr style=\"text-align: right;\">\n",
       "      <th></th>\n",
       "      <th>Loan_id</th>\n",
       "      <th>Amount_Requested</th>\n",
       "      <th>Amount_Funded_By_Investors</th>\n",
       "      <th>Interest_Rate</th>\n",
       "      <th>Loan_Length</th>\n",
       "      <th>Debt_To_Income_Ratio</th>\n",
       "      <th>Monthly_Income</th>\n",
       "      <th>FICO_Range</th>\n",
       "      <th>Open_CREDIT_Lines</th>\n",
       "      <th>Revolving_CREDIT_Balance</th>\n",
       "      <th>Inquiries_in_the_Last_6_Months</th>\n",
       "      <th>Employment_Length</th>\n",
       "    </tr>\n",
       "  </thead>\n",
       "  <tbody>\n",
       "    <tr>\n",
       "      <th>0</th>\n",
       "      <td>-1248.0</td>\n",
       "      <td>-9000.0</td>\n",
       "      <td>-9000.0</td>\n",
       "      <td>1.70</td>\n",
       "      <td>36.0</td>\n",
       "      <td>-6.6375</td>\n",
       "      <td>-1450.0</td>\n",
       "      <td>612.5</td>\n",
       "      <td>-2.0</td>\n",
       "      <td>-14305.5</td>\n",
       "      <td>-1.5</td>\n",
       "      <td>-10.0</td>\n",
       "    </tr>\n",
       "    <tr>\n",
       "      <th>1</th>\n",
       "      <td>3748.0</td>\n",
       "      <td>31000.0</td>\n",
       "      <td>31000.0</td>\n",
       "      <td>24.26</td>\n",
       "      <td>36.0</td>\n",
       "      <td>37.0625</td>\n",
       "      <td>11750.0</td>\n",
       "      <td>792.5</td>\n",
       "      <td>22.0</td>\n",
       "      <td>38742.5</td>\n",
       "      <td>2.5</td>\n",
       "      <td>22.0</td>\n",
       "    </tr>\n",
       "  </tbody>\n",
       "</table>\n",
       "</div>"
      ],
      "text/plain": [
       "   Loan_id  Amount_Requested  Amount_Funded_By_Investors  Interest_Rate  \\\n",
       "0  -1248.0           -9000.0                     -9000.0           1.70   \n",
       "1   3748.0           31000.0                     31000.0          24.26   \n",
       "\n",
       "   Loan_Length  Debt_To_Income_Ratio  Monthly_Income  FICO_Range  \\\n",
       "0         36.0               -6.6375         -1450.0       612.5   \n",
       "1         36.0               37.0625         11750.0       792.5   \n",
       "\n",
       "   Open_CREDIT_Lines  Revolving_CREDIT_Balance  \\\n",
       "0               -2.0                  -14305.5   \n",
       "1               22.0                   38742.5   \n",
       "\n",
       "   Inquiries_in_the_Last_6_Months  Employment_Length  \n",
       "0                            -1.5              -10.0  \n",
       "1                             2.5               22.0  "
      ]
     },
     "execution_count": 123,
     "metadata": {},
     "output_type": "execute_result"
    }
   ],
   "source": [
    "cutoffs = pd.DataFrame(Num_Data.apply(outliertreat_IQR))\n",
    "cutoffs"
   ]
  },
  {
   "cell_type": "markdown",
   "id": "63bbe95f",
   "metadata": {},
   "source": [
    "## Outlier treatment of only required columns"
   ]
  },
  {
   "cell_type": "code",
   "execution_count": 124,
   "id": "f4191810",
   "metadata": {},
   "outputs": [
    {
     "data": {
      "text/plain": [
       "Index(['Loan_id', 'Amount_Requested', 'Amount_Funded_By_Investors',\n",
       "       'Interest_Rate', 'Loan_Length', 'Debt_To_Income_Ratio',\n",
       "       'Monthly_Income', 'FICO_Range', 'Open_CREDIT_Lines',\n",
       "       'Revolving_CREDIT_Balance', 'Inquiries_in_the_Last_6_Months',\n",
       "       'Employment_Length'],\n",
       "      dtype='object')"
      ]
     },
     "execution_count": 124,
     "metadata": {},
     "output_type": "execute_result"
    }
   ],
   "source": [
    "Num_Data.columns"
   ]
  },
  {
   "cell_type": "code",
   "execution_count": 126,
   "id": "2443540b",
   "metadata": {},
   "outputs": [
    {
     "data": {
      "image/png": "[encoded data removed]",
      "text/plain": [
       "<Figure size 640x480 with 1 Axes>"
      ]
     },
     "metadata": {},
     "output_type": "display_data"
    },
    {
     "data": {
      "image/png": "[encoded data removed]",
      "text/plain": [
       "<Figure size 640x480 with 1 Axes>"
      ]
     },
     "metadata": {},
     "output_type": "display_data"
    },
    {
     "data": {
      "image/png": "[encoded data removed]",
      "text/plain": [
       "<Figure size 640x480 with 1 Axes>"
      ]
     },
     "metadata": {},
     "output_type": "display_data"
    },
    {
     "data": {
      "image/png": "[encoded data removed]",
      "text/plain": [
       "<Figure size 640x480 with 1 Axes>"
      ]
     },
     "metadata": {},
     "output_type": "display_data"
    },
    {
     "data": {
      "image/png": "[encoded data removed]",
      "text/plain": [
       "<Figure size 640x480 with 1 Axes>"
      ]
     },
     "metadata": {},
     "output_type": "display_data"
    },
    {
     "data": {
      "image/png": "[encoded data removed]",
      "text/plain": [
       "<Figure size 640x480 with 1 Axes>"
      ]
     },
     "metadata": {},
     "output_type": "display_data"
    },
    {
     "data": {
      "image/png": "[encoded data removed]",
      "text/plain": [
       "<Figure size 640x480 with 1 Axes>"
      ]
     },
     "metadata": {},
     "output_type": "display_data"
    },
    {
     "data": {
      "image/png": "[encoded data removed]",
      "text/plain": [
       "<Figure size 640x480 with 1 Axes>"
      ]
     },
     "metadata": {},
     "output_type": "display_data"
    },
    {
     "data": {
      "image/png": "[encoded data removed]",
      "text/plain": [
       "<Figure size 640x480 with 1 Axes>"
      ]
     },
     "metadata": {},
     "output_type": "display_data"
    },
    {
     "data": {
      "image/png": "[encoded data removed]",
      "text/plain": [
       "<Figure size 640x480 with 1 Axes>"
      ]
     },
     "metadata": {},
     "output_type": "display_data"
    },
    {
     "data": {
      "image/png": "[encoded data removed]",
      "text/plain": [
       "<Figure size 640x480 with 1 Axes>"
      ]
     },
     "metadata": {},
     "output_type": "display_data"
    },
    {
     "data": {
      "image/png": "[encoded data removed]",
      "text/plain": [
       "<Figure size 640x480 with 1 Axes>"
      ]
     },
     "metadata": {},
     "output_type": "display_data"
    }
   ],
   "source": [
    "for col in Num_Data:\n",
    "    sns.boxplot(Num_Data[col])\n",
    "    plt.show()"
   ]
  },
  {
   "cell_type": "code",
   "execution_count": 127,
   "id": "131a86f6",
   "metadata": {},
   "outputs": [
    {
     "data": {
      "text/plain": [
       "Inquiries_in_the_Last_6_Months\n",
       "0.0    1252\n",
       "1.0     657\n",
       "2.0     335\n",
       "3.0     169\n",
       "4.0      50\n",
       "5.0      14\n",
       "6.0       8\n",
       "7.0       7\n",
       "9.0       5\n",
       "8.0       2\n",
       "Name: count, dtype: int64"
      ]
     },
     "execution_count": 127,
     "metadata": {},
     "output_type": "execute_result"
    }
   ],
   "source": [
    "Num_Data.Inquiries_in_the_Last_6_Months.value_counts()"
   ]
  },
  {
   "cell_type": "code",
   "execution_count": 128,
   "id": "b670a456",
   "metadata": {},
   "outputs": [],
   "source": [
    "l = ['Amount_Requested','Amount_Funded_By_Investors','Interest_rate','FICO_Range','Open_CREDIT_Lines','Inquiries_in_the_Last_6_Months']"
   ]
  },
  {
   "cell_type": "code",
   "execution_count": 129,
   "id": "1140fdc0",
   "metadata": {},
   "outputs": [
    {
     "data": {
      "text/html": [
       "<div>\n",
       "<style scoped>\n",
       "    .dataframe tbody tr th:only-of-type {\n",
       "        vertical-align: middle;\n",
       "    }\n",
       "\n",
       "    .dataframe tbody tr th {\n",
       "        vertical-align: top;\n",
       "    }\n",
       "\n",
       "    .dataframe thead th {\n",
       "        text-align: right;\n",
       "    }\n",
       "</style>\n",
       "<table border=\"1\" class=\"dataframe\">\n",
       "  <thead>\n",
       "    <tr style=\"text-align: right;\">\n",
       "      <th></th>\n",
       "      <th>Loan_id</th>\n",
       "      <th>Amount_Requested</th>\n",
       "      <th>Amount_Funded_By_Investors</th>\n",
       "      <th>Interest_Rate</th>\n",
       "      <th>Loan_Length</th>\n",
       "      <th>Debt_To_Income_Ratio</th>\n",
       "      <th>Monthly_Income</th>\n",
       "      <th>FICO_Range</th>\n",
       "      <th>Open_CREDIT_Lines</th>\n",
       "      <th>Revolving_CREDIT_Balance</th>\n",
       "      <th>Inquiries_in_the_Last_6_Months</th>\n",
       "      <th>Employment_Length</th>\n",
       "    </tr>\n",
       "  </thead>\n",
       "  <tbody>\n",
       "    <tr>\n",
       "      <th>0</th>\n",
       "      <td>-1248.0</td>\n",
       "      <td>-9000.0</td>\n",
       "      <td>-9000.0</td>\n",
       "      <td>1.70</td>\n",
       "      <td>36.0</td>\n",
       "      <td>-6.6375</td>\n",
       "      <td>-1450.0</td>\n",
       "      <td>612.5</td>\n",
       "      <td>-2.0</td>\n",
       "      <td>-14305.5</td>\n",
       "      <td>-1.5</td>\n",
       "      <td>-10.0</td>\n",
       "    </tr>\n",
       "    <tr>\n",
       "      <th>1</th>\n",
       "      <td>3748.0</td>\n",
       "      <td>31000.0</td>\n",
       "      <td>31000.0</td>\n",
       "      <td>24.26</td>\n",
       "      <td>36.0</td>\n",
       "      <td>37.0625</td>\n",
       "      <td>11750.0</td>\n",
       "      <td>792.5</td>\n",
       "      <td>22.0</td>\n",
       "      <td>38742.5</td>\n",
       "      <td>2.5</td>\n",
       "      <td>22.0</td>\n",
       "    </tr>\n",
       "  </tbody>\n",
       "</table>\n",
       "</div>"
      ],
      "text/plain": [
       "   Loan_id  Amount_Requested  Amount_Funded_By_Investors  Interest_Rate  \\\n",
       "0  -1248.0           -9000.0                     -9000.0           1.70   \n",
       "1   3748.0           31000.0                     31000.0          24.26   \n",
       "\n",
       "   Loan_Length  Debt_To_Income_Ratio  Monthly_Income  FICO_Range  \\\n",
       "0         36.0               -6.6375         -1450.0       612.5   \n",
       "1         36.0               37.0625         11750.0       792.5   \n",
       "\n",
       "   Open_CREDIT_Lines  Revolving_CREDIT_Balance  \\\n",
       "0               -2.0                  -14305.5   \n",
       "1               22.0                   38742.5   \n",
       "\n",
       "   Inquiries_in_the_Last_6_Months  Employment_Length  \n",
       "0                            -1.5              -10.0  \n",
       "1                             2.5               22.0  "
      ]
     },
     "execution_count": 129,
     "metadata": {},
     "output_type": "execute_result"
    }
   ],
   "source": [
    "Num_Data.apply(outliertreat_IQR)"
   ]
  },
  {
   "cell_type": "markdown",
   "id": "5b4882f9",
   "metadata": {},
   "source": [
    "**Amount Requested**"
   ]
  },
  {
   "cell_type": "code",
   "execution_count": 130,
   "id": "b120b67c",
   "metadata": {},
   "outputs": [],
   "source": [
    "Num_Data['Amount_Requested'] = Num_Data.Amount_Requested.clip(lower = -10500.00, upper = 33500)"
   ]
  },
  {
   "cell_type": "code",
   "execution_count": 131,
   "id": "8b721eb4",
   "metadata": {},
   "outputs": [
    {
     "data": {
      "text/plain": [
       "<Axes: >"
      ]
     },
     "execution_count": 131,
     "metadata": {},
     "output_type": "execute_result"
    },
    {
     "data": {
      "image/png": "[encoded data removed]",
      "text/plain": [
       "<Figure size 640x480 with 1 Axes>"
      ]
     },
     "metadata": {},
     "output_type": "display_data"
    }
   ],
   "source": [
    "sns.boxplot(Num_Data.Amount_Requested)"
   ]
  },
  {
   "cell_type": "markdown",
   "id": "680d9b5e",
   "metadata": {},
   "source": [
    "**Amount_Funded_By_Investors**"
   ]
  },
  {
   "cell_type": "code",
   "execution_count": 134,
   "id": "9ac772ba",
   "metadata": {},
   "outputs": [
    {
     "data": {
      "text/plain": [
       "<Axes: >"
      ]
     },
     "execution_count": 134,
     "metadata": {},
     "output_type": "execute_result"
    },
    {
     "data": {
      "image/png": "[encoded data removed]",
      "text/plain": [
       "<Figure size 640x480 with 1 Axes>"
      ]
     },
     "metadata": {},
     "output_type": "display_data"
    }
   ],
   "source": [
    "Num_Data['Amount_Funded_By_Investors'] = Num_Data.Amount_Funded_By_Investors.clip(lower = -9000, upper = 31000)\n",
    "sns.boxplot(Num_Data.Amount_Requested)"
   ]
  },
  {
   "cell_type": "markdown",
   "id": "31afacea",
   "metadata": {},
   "source": [
    "**Interest Rate**"
   ]
  },
  {
   "cell_type": "code",
   "execution_count": 135,
   "id": "b5ee0836",
   "metadata": {},
   "outputs": [
    {
     "data": {
      "text/plain": [
       "<Axes: >"
      ]
     },
     "execution_count": 135,
     "metadata": {},
     "output_type": "execute_result"
    },
    {
     "data": {
      "image/png": "[encoded data removed]",
      "text/plain": [
       "<Figure size 640x480 with 1 Axes>"
      ]
     },
     "metadata": {},
     "output_type": "display_data"
    }
   ],
   "source": [
    "Num_Data['Interest Rate'] = Num_Data.Interest_Rate.clip(lower = 1.70, upper = 24.26)\n",
    "sns.boxplot(Num_Data.Interest_Rate)"
   ]
  },
  {
   "cell_type": "markdown",
   "id": "06772559",
   "metadata": {},
   "source": [
    "**FICO_Range**"
   ]
  },
  {
   "cell_type": "code",
   "execution_count": 136,
   "id": "95124c95",
   "metadata": {},
   "outputs": [
    {
     "data": {
      "text/plain": [
       "<Axes: >"
      ]
     },
     "execution_count": 136,
     "metadata": {},
     "output_type": "execute_result"
    },
    {
     "data": {
      "image/png": "[encoded data removed]",
      "text/plain": [
       "<Figure size 640x480 with 1 Axes>"
      ]
     },
     "metadata": {},
     "output_type": "display_data"
    }
   ],
   "source": [
    "Num_Data['FICO_Range'] = Num_Data.FICO_Range.clip(lower = 612.5, upper = 792.5)\n",
    "sns.boxplot(Num_Data.FICO_Range)"
   ]
  },
  {
   "cell_type": "markdown",
   "id": "7818d731",
   "metadata": {},
   "source": [
    "**Open_CREDIT_Lines**"
   ]
  },
  {
   "cell_type": "code",
   "execution_count": 137,
   "id": "bb1f3b86",
   "metadata": {},
   "outputs": [
    {
     "data": {
      "text/plain": [
       "<Axes: >"
      ]
     },
     "execution_count": 137,
     "metadata": {},
     "output_type": "execute_result"
    },
    {
     "data": {
      "image/png": "[encoded data removed]",
      "text/plain": [
       "<Figure size 640x480 with 1 Axes>"
      ]
     },
     "metadata": {},
     "output_type": "display_data"
    }
   ],
   "source": [
    "Num_Data['Open_CREDIT_Lines'] = Num_Data.Open_CREDIT_Lines.clip(lower = -2.0, upper = 22.0)\n",
    "sns.boxplot(Num_Data.Open_CREDIT_Lines)"
   ]
  },
  {
   "cell_type": "markdown",
   "id": "93211ec4",
   "metadata": {},
   "source": [
    "**Inquiries_in_the_Last_6_Months**"
   ]
  },
  {
   "cell_type": "code",
   "execution_count": 138,
   "id": "9c6d2222",
   "metadata": {},
   "outputs": [
    {
     "data": {
      "text/plain": [
       "<Axes: >"
      ]
     },
     "execution_count": 138,
     "metadata": {},
     "output_type": "execute_result"
    },
    {
     "data": {
      "image/png": "[encoded data removed]",
      "text/plain": [
       "<Figure size 640x480 with 1 Axes>"
      ]
     },
     "metadata": {},
     "output_type": "display_data"
    }
   ],
   "source": [
    "Num_Data['Inquiries_in_the_Last_6_Months'] = Num_Data.Inquiries_in_the_Last_6_Months.clip(lower = -1.5, upper = 2.5)\n",
    "sns.boxplot(Num_Data.Inquiries_in_the_Last_6_Months)"
   ]
  },
  {
   "cell_type": "code",
   "execution_count": 139,
   "id": "5811d568",
   "metadata": {},
   "outputs": [
    {
     "data": {
      "text/html": [
       "<div>\n",
       "<style scoped>\n",
       "    .dataframe tbody tr th:only-of-type {\n",
       "        vertical-align: middle;\n",
       "    }\n",
       "\n",
       "    .dataframe tbody tr th {\n",
       "        vertical-align: top;\n",
       "    }\n",
       "\n",
       "    .dataframe thead th {\n",
       "        text-align: right;\n",
       "    }\n",
       "</style>\n",
       "<table border=\"1\" class=\"dataframe\">\n",
       "  <thead>\n",
       "    <tr style=\"text-align: right;\">\n",
       "      <th></th>\n",
       "      <th>Loan_id</th>\n",
       "      <th>Amount_Requested</th>\n",
       "      <th>Amount_Funded_By_Investors</th>\n",
       "      <th>Interest_Rate</th>\n",
       "      <th>Loan_Length</th>\n",
       "      <th>Debt_To_Income_Ratio</th>\n",
       "      <th>Monthly_Income</th>\n",
       "      <th>FICO_Range</th>\n",
       "      <th>Open_CREDIT_Lines</th>\n",
       "      <th>Revolving_CREDIT_Balance</th>\n",
       "      <th>Inquiries_in_the_Last_6_Months</th>\n",
       "      <th>Employment_Length</th>\n",
       "      <th>Interest Rate</th>\n",
       "    </tr>\n",
       "  </thead>\n",
       "  <tbody>\n",
       "    <tr>\n",
       "      <th>0</th>\n",
       "      <td>1</td>\n",
       "      <td>20000.0</td>\n",
       "      <td>20000.0</td>\n",
       "      <td>8.90</td>\n",
       "      <td>36.0</td>\n",
       "      <td>14.90</td>\n",
       "      <td>6541.67</td>\n",
       "      <td>735.0</td>\n",
       "      <td>14.0</td>\n",
       "      <td>14272.0</td>\n",
       "      <td>2.0</td>\n",
       "      <td>1.0</td>\n",
       "      <td>8.90</td>\n",
       "    </tr>\n",
       "    <tr>\n",
       "      <th>1</th>\n",
       "      <td>2</td>\n",
       "      <td>19200.0</td>\n",
       "      <td>19200.0</td>\n",
       "      <td>12.12</td>\n",
       "      <td>36.0</td>\n",
       "      <td>28.36</td>\n",
       "      <td>4583.33</td>\n",
       "      <td>715.0</td>\n",
       "      <td>12.0</td>\n",
       "      <td>11140.0</td>\n",
       "      <td>1.0</td>\n",
       "      <td>2.0</td>\n",
       "      <td>12.12</td>\n",
       "    </tr>\n",
       "    <tr>\n",
       "      <th>2</th>\n",
       "      <td>3</td>\n",
       "      <td>33500.0</td>\n",
       "      <td>31000.0</td>\n",
       "      <td>21.98</td>\n",
       "      <td>60.0</td>\n",
       "      <td>23.81</td>\n",
       "      <td>11500.00</td>\n",
       "      <td>690.0</td>\n",
       "      <td>14.0</td>\n",
       "      <td>21977.0</td>\n",
       "      <td>1.0</td>\n",
       "      <td>2.0</td>\n",
       "      <td>21.98</td>\n",
       "    </tr>\n",
       "    <tr>\n",
       "      <th>3</th>\n",
       "      <td>4</td>\n",
       "      <td>9975.0</td>\n",
       "      <td>9975.0</td>\n",
       "      <td>9.99</td>\n",
       "      <td>36.0</td>\n",
       "      <td>14.30</td>\n",
       "      <td>3833.33</td>\n",
       "      <td>695.0</td>\n",
       "      <td>10.0</td>\n",
       "      <td>9346.0</td>\n",
       "      <td>0.0</td>\n",
       "      <td>5.0</td>\n",
       "      <td>9.99</td>\n",
       "    </tr>\n",
       "    <tr>\n",
       "      <th>4</th>\n",
       "      <td>5</td>\n",
       "      <td>12000.0</td>\n",
       "      <td>12000.0</td>\n",
       "      <td>11.71</td>\n",
       "      <td>36.0</td>\n",
       "      <td>18.78</td>\n",
       "      <td>3195.00</td>\n",
       "      <td>695.0</td>\n",
       "      <td>11.0</td>\n",
       "      <td>14469.0</td>\n",
       "      <td>0.0</td>\n",
       "      <td>9.0</td>\n",
       "      <td>11.71</td>\n",
       "    </tr>\n",
       "  </tbody>\n",
       "</table>\n",
       "</div>"
      ],
      "text/plain": [
       "   Loan_id  Amount_Requested  Amount_Funded_By_Investors  Interest_Rate  \\\n",
       "0        1           20000.0                     20000.0           8.90   \n",
       "1        2           19200.0                     19200.0          12.12   \n",
       "2        3           33500.0                     31000.0          21.98   \n",
       "3        4            9975.0                      9975.0           9.99   \n",
       "4        5           12000.0                     12000.0          11.71   \n",
       "\n",
       "   Loan_Length  Debt_To_Income_Ratio  Monthly_Income  FICO_Range  \\\n",
       "0         36.0                 14.90         6541.67       735.0   \n",
       "1         36.0                 28.36         4583.33       715.0   \n",
       "2         60.0                 23.81        11500.00       690.0   \n",
       "3         36.0                 14.30         3833.33       695.0   \n",
       "4         36.0                 18.78         3195.00       695.0   \n",
       "\n",
       "   Open_CREDIT_Lines  Revolving_CREDIT_Balance  \\\n",
       "0               14.0                   14272.0   \n",
       "1               12.0                   11140.0   \n",
       "2               14.0                   21977.0   \n",
       "3               10.0                    9346.0   \n",
       "4               11.0                   14469.0   \n",
       "\n",
       "   Inquiries_in_the_Last_6_Months  Employment_Length  Interest Rate  \n",
       "0                             2.0                1.0           8.90  \n",
       "1                             1.0                2.0          12.12  \n",
       "2                             1.0                2.0          21.98  \n",
       "3                             0.0                5.0           9.99  \n",
       "4                             0.0                9.0          11.71  "
      ]
     },
     "execution_count": 139,
     "metadata": {},
     "output_type": "execute_result"
    }
   ],
   "source": [
    "Num_Data.head()"
   ]
  },
  {
   "cell_type": "markdown",
   "id": "66ec0c07",
   "metadata": {},
   "source": [
    "# Merging the categorical and the numerical data to get the dataset"
   ]
  },
  {
   "cell_type": "code",
   "execution_count": 140,
   "id": "4f74ef0e",
   "metadata": {},
   "outputs": [],
   "source": [
    "M_data1 = pd.merge(Num_Data,Cat_Data,how = 'inner',left_on = 'Loan_id',right_on = 'Loan_id')"
   ]
  },
  {
   "cell_type": "code",
   "execution_count": 141,
   "id": "428e2361",
   "metadata": {},
   "outputs": [
    {
     "data": {
      "text/plain": [
       "(2499, 16)"
      ]
     },
     "execution_count": 141,
     "metadata": {},
     "output_type": "execute_result"
    }
   ],
   "source": [
    "M_data1.shape"
   ]
  },
  {
   "cell_type": "code",
   "execution_count": 142,
   "id": "0a9a1d83",
   "metadata": {},
   "outputs": [
    {
     "data": {
      "text/plain": [
       "Index(['Loan_id', 'Amount_Requested', 'Amount_Funded_By_Investors',\n",
       "       'Interest_Rate', 'Loan_Length', 'Debt_To_Income_Ratio',\n",
       "       'Monthly_Income', 'FICO_Range', 'Open_CREDIT_Lines',\n",
       "       'Revolving_CREDIT_Balance', 'Inquiries_in_the_Last_6_Months',\n",
       "       'Employment_Length', 'Interest Rate', 'Loan_Purpose', 'States',\n",
       "       'Home_Ownership'],\n",
       "      dtype='object')"
      ]
     },
     "execution_count": 142,
     "metadata": {},
     "output_type": "execute_result"
    }
   ],
   "source": [
    "M_data1.columns"
   ]
  },
  {
   "cell_type": "code",
   "execution_count": 143,
   "id": "8d9b73ab",
   "metadata": {},
   "outputs": [
    {
     "name": "stdout",
     "output_type": "stream",
     "text": [
      "<class 'pandas.core.frame.DataFrame'>\n",
      "RangeIndex: 2499 entries, 0 to 2498\n",
      "Data columns (total 16 columns):\n",
      " #   Column                          Non-Null Count  Dtype  \n",
      "---  ------                          --------------  -----  \n",
      " 0   Loan_id                         2499 non-null   int64  \n",
      " 1   Amount_Requested                2499 non-null   float64\n",
      " 2   Amount_Funded_By_Investors      2499 non-null   float64\n",
      " 3   Interest_Rate                   2499 non-null   float64\n",
      " 4   Loan_Length                     2499 non-null   float64\n",
      " 5   Debt_To_Income_Ratio            2499 non-null   float64\n",
      " 6   Monthly_Income                  2499 non-null   float64\n",
      " 7   FICO_Range                      2499 non-null   float64\n",
      " 8   Open_CREDIT_Lines               2499 non-null   float64\n",
      " 9   Revolving_CREDIT_Balance        2499 non-null   float64\n",
      " 10  Inquiries_in_the_Last_6_Months  2499 non-null   float64\n",
      " 11  Employment_Length               2499 non-null   float64\n",
      " 12  Interest Rate                   2499 non-null   float64\n",
      " 13  Loan_Purpose                    2499 non-null   object \n",
      " 14  States                          2499 non-null   object \n",
      " 15  Home_Ownership                  2499 non-null   object \n",
      "dtypes: float64(12), int64(1), object(3)\n",
      "memory usage: 312.5+ KB\n"
     ]
    }
   ],
   "source": [
    "M_data1.info()"
   ]
  },
  {
   "cell_type": "markdown",
   "id": "6b409c42",
   "metadata": {},
   "source": [
    "# Standardization of the Numerical Data"
   ]
  },
  {
   "cell_type": "code",
   "execution_count": 144,
   "id": "f1de372c",
   "metadata": {},
   "outputs": [],
   "source": [
    "from scipy import stats"
   ]
  },
  {
   "cell_type": "code",
   "execution_count": 145,
   "id": "518f0051",
   "metadata": {},
   "outputs": [],
   "source": [
    "Num_Data_z = Num_Data.apply(stats.zscore) "
   ]
  },
  {
   "cell_type": "code",
   "execution_count": 146,
   "id": "469f24a4",
   "metadata": {},
   "outputs": [
    {
     "data": {
      "text/html": [
       "<div>\n",
       "<style scoped>\n",
       "    .dataframe tbody tr th:only-of-type {\n",
       "        vertical-align: middle;\n",
       "    }\n",
       "\n",
       "    .dataframe tbody tr th {\n",
       "        vertical-align: top;\n",
       "    }\n",
       "\n",
       "    .dataframe thead th {\n",
       "        text-align: right;\n",
       "    }\n",
       "</style>\n",
       "<table border=\"1\" class=\"dataframe\">\n",
       "  <thead>\n",
       "    <tr style=\"text-align: right;\">\n",
       "      <th></th>\n",
       "      <th>Loan_id</th>\n",
       "      <th>Amount_Requested</th>\n",
       "      <th>Amount_Funded_By_Investors</th>\n",
       "      <th>Interest_Rate</th>\n",
       "      <th>Loan_Length</th>\n",
       "      <th>Debt_To_Income_Ratio</th>\n",
       "      <th>Monthly_Income</th>\n",
       "      <th>FICO_Range</th>\n",
       "      <th>Open_CREDIT_Lines</th>\n",
       "      <th>Revolving_CREDIT_Balance</th>\n",
       "      <th>Inquiries_in_the_Last_6_Months</th>\n",
       "      <th>Employment_Length</th>\n",
       "      <th>Interest Rate</th>\n",
       "    </tr>\n",
       "  </thead>\n",
       "  <tbody>\n",
       "    <tr>\n",
       "      <th>0</th>\n",
       "      <td>1</td>\n",
       "      <td>20000.0</td>\n",
       "      <td>20000.0</td>\n",
       "      <td>8.90</td>\n",
       "      <td>36.0</td>\n",
       "      <td>14.90</td>\n",
       "      <td>6541.67</td>\n",
       "      <td>735.0</td>\n",
       "      <td>14.0</td>\n",
       "      <td>14272.0</td>\n",
       "      <td>2.0</td>\n",
       "      <td>1.0</td>\n",
       "      <td>8.90</td>\n",
       "    </tr>\n",
       "    <tr>\n",
       "      <th>1</th>\n",
       "      <td>2</td>\n",
       "      <td>19200.0</td>\n",
       "      <td>19200.0</td>\n",
       "      <td>12.12</td>\n",
       "      <td>36.0</td>\n",
       "      <td>28.36</td>\n",
       "      <td>4583.33</td>\n",
       "      <td>715.0</td>\n",
       "      <td>12.0</td>\n",
       "      <td>11140.0</td>\n",
       "      <td>1.0</td>\n",
       "      <td>2.0</td>\n",
       "      <td>12.12</td>\n",
       "    </tr>\n",
       "    <tr>\n",
       "      <th>2</th>\n",
       "      <td>3</td>\n",
       "      <td>33500.0</td>\n",
       "      <td>31000.0</td>\n",
       "      <td>21.98</td>\n",
       "      <td>60.0</td>\n",
       "      <td>23.81</td>\n",
       "      <td>11500.00</td>\n",
       "      <td>690.0</td>\n",
       "      <td>14.0</td>\n",
       "      <td>21977.0</td>\n",
       "      <td>1.0</td>\n",
       "      <td>2.0</td>\n",
       "      <td>21.98</td>\n",
       "    </tr>\n",
       "    <tr>\n",
       "      <th>3</th>\n",
       "      <td>4</td>\n",
       "      <td>9975.0</td>\n",
       "      <td>9975.0</td>\n",
       "      <td>9.99</td>\n",
       "      <td>36.0</td>\n",
       "      <td>14.30</td>\n",
       "      <td>3833.33</td>\n",
       "      <td>695.0</td>\n",
       "      <td>10.0</td>\n",
       "      <td>9346.0</td>\n",
       "      <td>0.0</td>\n",
       "      <td>5.0</td>\n",
       "      <td>9.99</td>\n",
       "    </tr>\n",
       "    <tr>\n",
       "      <th>4</th>\n",
       "      <td>5</td>\n",
       "      <td>12000.0</td>\n",
       "      <td>12000.0</td>\n",
       "      <td>11.71</td>\n",
       "      <td>36.0</td>\n",
       "      <td>18.78</td>\n",
       "      <td>3195.00</td>\n",
       "      <td>695.0</td>\n",
       "      <td>11.0</td>\n",
       "      <td>14469.0</td>\n",
       "      <td>0.0</td>\n",
       "      <td>9.0</td>\n",
       "      <td>11.71</td>\n",
       "    </tr>\n",
       "  </tbody>\n",
       "</table>\n",
       "</div>"
      ],
      "text/plain": [
       "   Loan_id  Amount_Requested  Amount_Funded_By_Investors  Interest_Rate  \\\n",
       "0        1           20000.0                     20000.0           8.90   \n",
       "1        2           19200.0                     19200.0          12.12   \n",
       "2        3           33500.0                     31000.0          21.98   \n",
       "3        4            9975.0                      9975.0           9.99   \n",
       "4        5           12000.0                     12000.0          11.71   \n",
       "\n",
       "   Loan_Length  Debt_To_Income_Ratio  Monthly_Income  FICO_Range  \\\n",
       "0         36.0                 14.90         6541.67       735.0   \n",
       "1         36.0                 28.36         4583.33       715.0   \n",
       "2         60.0                 23.81        11500.00       690.0   \n",
       "3         36.0                 14.30         3833.33       695.0   \n",
       "4         36.0                 18.78         3195.00       695.0   \n",
       "\n",
       "   Open_CREDIT_Lines  Revolving_CREDIT_Balance  \\\n",
       "0               14.0                   14272.0   \n",
       "1               12.0                   11140.0   \n",
       "2               14.0                   21977.0   \n",
       "3               10.0                    9346.0   \n",
       "4               11.0                   14469.0   \n",
       "\n",
       "   Inquiries_in_the_Last_6_Months  Employment_Length  Interest Rate  \n",
       "0                             2.0                1.0           8.90  \n",
       "1                             1.0                2.0          12.12  \n",
       "2                             1.0                2.0          21.98  \n",
       "3                             0.0                5.0           9.99  \n",
       "4                             0.0                9.0          11.71  "
      ]
     },
     "execution_count": 146,
     "metadata": {},
     "output_type": "execute_result"
    }
   ],
   "source": [
    "Num_Data.head()"
   ]
  }
 ],
 "metadata": {
  "kernelspec": {
   "display_name": "Python 3 (ipykernel)",
   "language": "python",
   "name": "python3"
  },
  "language_info": {
   "codemirror_mode": {
    "name": "ipython",
    "version": 3
   },
   "file_extension": ".py",
   "mimetype": "text/x-python",
   "name": "python",
   "nbconvert_exporter": "python",
   "pygments_lexer": "ipython3",
   "version": "3.11.5"
  }
 },
 "nbformat": 4,
 "nbformat_minor": 5
}
